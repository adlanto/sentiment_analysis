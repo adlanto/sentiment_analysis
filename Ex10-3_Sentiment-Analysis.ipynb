{
 "cells": [
  {
   "cell_type": "markdown",
   "metadata": {},
   "source": [
    "# Sentiment Analysis\n",
    "Die **\"Stimmungsanalyse\"** gehört zu den **Natural Language Processing (NLP)** Modellen.<br>\n",
    "Meist ermöglicht die Sentiment Analysis eine Klassifizierung von wenigen Sätzen anhand einer der folgenden Kriterien: \n",
    "* **Wertung:** Negativ, Neutral, Positiv\n",
    "* **Themengebiet**, über das geschrieben wird\n",
    "* **Informationen zur Person** hinter der Meinung <br>\n",
    "\n",
    "**Idee:** Viele Daten auf die **wesentlichen Informationen** (den Nutzen) herunterbrechen, z.B. bei Marktanalysen, Produktrezensionen oder Kundenservices."
   ]
  },
  {
   "cell_type": "markdown",
   "metadata": {},
   "source": [
    "## Recurrent Neural Networks (RNNs)\n",
    "Besondere Architektur für **sequentielle Daten** wie Texte.\n",
    "Klassische neuronale Netze arbeiten Buchstaben für Buchstaben eines Textes ab, sehen keinen Zusammenhang. <br><br>\n",
    "**Idee:** Ausgang des Netzes abhängig vom **aktuellen und den vorherigen Buchstaben**. Die Berechnung der Vorherigen wiederholt sich damit - *recurrent*. Bildlich gesprochen haben RNNs ein Kurzzeitgedächtnis.<br><br>\n",
    "**Problem:** Betrachtbare Sequenz zwar theoretisch unendlich lange, praktisch jedoch **hohe Rechenleistung für Wiederholungen** erforderlich."
   ]
  },
  {
   "cell_type": "markdown",
   "metadata": {},
   "source": [
    "## Long Short-Term Memory networks (LSTMs)\n",
    "**Lösung:** \"Kurzes\" Kurzzeitgedächtnis des RNNs soll zu einem **\"langen Kurzzeitgedächtnis\"** ausgebaut werden.<br>\n",
    " <br> **Idee:** Komplexere Architektur mit **Zellen, die Bedeutung einzelner, längerer Sequenzen speichern** und zusammenfügen soll. Einzelne Informationen können vergessen, in Kontext zu anderen Informationen gebracht oder durch neue Informationen ergänzt werden (durch Forget, Output und Input Gates)"
   ]
  },
  {
   "cell_type": "code",
   "execution_count": 1,
   "metadata": {},
   "outputs": [],
   "source": [
    "import os\n",
    "import tensorflow as tf\n",
    "import numpy as np\n",
    "import matplotlib.pyplot as plt\n",
    "from tensorflow import keras"
   ]
  },
  {
   "cell_type": "code",
   "execution_count": 2,
   "metadata": {},
   "outputs": [],
   "source": [
    "os.environ['TF_CPP_MIN_LOG_LEVEL'] = '2'\n",
    "assert tf.__version__.startswith('2.')\n",
    "#tf.debugging.set_log_device_placement(True)\n",
    "\n",
    "# fix random seed for reproducibility\n",
    "tf.random.set_seed(22)\n",
    "np.random.seed(7)"
   ]
  },
  {
   "cell_type": "code",
   "execution_count": 3,
   "metadata": {},
   "outputs": [],
   "source": [
    "def plotHistory(history):\n",
    "    # Plot training & validation accuracy values\n",
    "    plt.plot(history.history['accuracy'])\n",
    "    plt.plot(history.history['val_accuracy'])\n",
    "    plt.title('Model accuracy')\n",
    "    plt.ylabel('Accuracy')\n",
    "    plt.xlabel('Epoch')\n",
    "    plt.legend(['Train', 'Validation'], loc='upper left')\n",
    "    plt.show()\n",
    "\n",
    "    # Plot training & validation loss values\n",
    "    plt.plot(history.history['loss'])\n",
    "    plt.plot(history.history['val_loss'])\n",
    "    plt.title('Model loss')\n",
    "    plt.ylabel('Loss')\n",
    "    plt.xlabel('Epoch')\n",
    "    plt.legend(['Train', 'Validation'], loc='upper left')\n",
    "    plt.show()"
   ]
  },
  {
   "cell_type": "code",
   "execution_count": 4,
   "metadata": {},
   "outputs": [
    {
     "name": "stdout",
     "output_type": "stream",
     "text": [
      "Number of different words in Training Data: 19998\n",
      "Number of different words in Testing Data: 19490\n"
     ]
    }
   ],
   "source": [
    "# only keep the top n most used words, zero the rest\n",
    "top_words = 20000\n",
    "# load the dataset\n",
    "(X_train, y_train), (X_test, y_test) = keras.datasets.imdb.load_data(num_words=top_words)\n",
    "print(\"Number of different words in Training Data:\", len(np.unique(np.hstack(X_train))))\n",
    "print(\"Number of different words in Testing Data:\", len(np.unique(np.hstack(X_test))))"
   ]
  },
  {
   "cell_type": "code",
   "execution_count": 5,
   "metadata": {},
   "outputs": [
    {
     "name": "stdout",
     "output_type": "stream",
     "text": [
      "X_train: [list([1, 14, 22, 16, 43, 530, 973, 1622, 1385, 65, 458, 4468, 66, 3941, 4, 173, 36, 256, 5, 25, 100, 43, 838, 112, 50, 670, 2, 9, 35, 480, 284, 5, 150, 4, 172, 112, 167, 2, 336, 385, 39, 4, 172, 4536, 1111, 17, 546, 38, 13, 447, 4, 192, 50, 16, 6, 147, 2025, 19, 14, 22, 4, 1920, 4613, 469, 4, 22, 71, 87, 12, 16, 43, 530, 38, 76, 15, 13, 1247, 4, 22, 17, 515, 17, 12, 16, 626, 18, 19193, 5, 62, 386, 12, 8, 316, 8, 106, 5, 4, 2223, 5244, 16, 480, 66, 3785, 33, 4, 130, 12, 16, 38, 619, 5, 25, 124, 51, 36, 135, 48, 25, 1415, 33, 6, 22, 12, 215, 28, 77, 52, 5, 14, 407, 16, 82, 10311, 8, 4, 107, 117, 5952, 15, 256, 4, 2, 7, 3766, 5, 723, 36, 71, 43, 530, 476, 26, 400, 317, 46, 7, 4, 12118, 1029, 13, 104, 88, 4, 381, 15, 297, 98, 32, 2071, 56, 26, 141, 6, 194, 7486, 18, 4, 226, 22, 21, 134, 476, 26, 480, 5, 144, 30, 5535, 18, 51, 36, 28, 224, 92, 25, 104, 4, 226, 65, 16, 38, 1334, 88, 12, 16, 283, 5, 16, 4472, 113, 103, 32, 15, 16, 5345, 19, 178, 32])\n",
      " list([1, 194, 1153, 194, 8255, 78, 228, 5, 6, 1463, 4369, 5012, 134, 26, 4, 715, 8, 118, 1634, 14, 394, 20, 13, 119, 954, 189, 102, 5, 207, 110, 3103, 21, 14, 69, 188, 8, 30, 23, 7, 4, 249, 126, 93, 4, 114, 9, 2300, 1523, 5, 647, 4, 116, 9, 35, 8163, 4, 229, 9, 340, 1322, 4, 118, 9, 4, 130, 4901, 19, 4, 1002, 5, 89, 29, 952, 46, 37, 4, 455, 9, 45, 43, 38, 1543, 1905, 398, 4, 1649, 26, 6853, 5, 163, 11, 3215, 10156, 4, 1153, 9, 194, 775, 7, 8255, 11596, 349, 2637, 148, 605, 15358, 8003, 15, 123, 125, 68, 2, 6853, 15, 349, 165, 4362, 98, 5, 4, 228, 9, 43, 2, 1157, 15, 299, 120, 5, 120, 174, 11, 220, 175, 136, 50, 9, 4373, 228, 8255, 5, 2, 656, 245, 2350, 5, 4, 9837, 131, 152, 491, 18, 2, 32, 7464, 1212, 14, 9, 6, 371, 78, 22, 625, 64, 1382, 9, 8, 168, 145, 23, 4, 1690, 15, 16, 4, 1355, 5, 28, 6, 52, 154, 462, 33, 89, 78, 285, 16, 145, 95])\n",
      " list([1, 14, 47, 8, 30, 31, 7, 4, 249, 108, 7, 4, 5974, 54, 61, 369, 13, 71, 149, 14, 22, 112, 4, 2401, 311, 12, 16, 3711, 33, 75, 43, 1829, 296, 4, 86, 320, 35, 534, 19, 263, 4821, 1301, 4, 1873, 33, 89, 78, 12, 66, 16, 4, 360, 7, 4, 58, 316, 334, 11, 4, 1716, 43, 645, 662, 8, 257, 85, 1200, 42, 1228, 2578, 83, 68, 3912, 15, 36, 165, 1539, 278, 36, 69, 2, 780, 8, 106, 14, 6905, 1338, 18, 6, 22, 12, 215, 28, 610, 40, 6, 87, 326, 23, 2300, 21, 23, 22, 12, 272, 40, 57, 31, 11, 4, 22, 47, 6, 2307, 51, 9, 170, 23, 595, 116, 595, 1352, 13, 191, 79, 638, 89, 2, 14, 9, 8, 106, 607, 624, 35, 534, 6, 227, 7, 129, 113])] ...\n",
      "y_train: [1 0 0] ...\n"
     ]
    }
   ],
   "source": [
    "print('X_train:', X_train[0:3], '...')\n",
    "print('y_train:', y_train[0:3], '...')"
   ]
  },
  {
   "cell_type": "code",
   "execution_count": 6,
   "metadata": {},
   "outputs": [
    {
     "name": "stdout",
     "output_type": "stream",
     "text": [
      "Review length: \n",
      "Mean 238.71 words (176.493674)\n"
     ]
    },
    {
     "data": {
      "image/png": "[encoded data removed]",
      "text/plain": [
       "<Figure size 432x288 with 1 Axes>"
      ]
     },
     "metadata": {
      "needs_background": "light"
     },
     "output_type": "display_data"
    },
    {
     "name": "stdout",
     "output_type": "stream",
     "text": [
      "Maximum length num words of review in training data: 2494\n",
      "Maximum length num words of review in testing data: 2315\n"
     ]
    }
   ],
   "source": [
    "# Summarize review length\n",
    "print(\"Review length: \")\n",
    "result = [len(x) for x in X_train]\n",
    "print(\"Mean %.2f words (%f)\" % (np.mean(result), np.std(result)))\n",
    "# plot review length\n",
    "plt.boxplot(result)\n",
    "plt.show()\n",
    "print(\"Maximum word length training data:\", (max([len(sequence) for sequence in X_train])))\n",
    "print(\"Maximum word length testing data:\", (max([len(sequence) for sequence in X_test])))"
   ]
  },
  {
   "cell_type": "code",
   "execution_count": 7,
   "metadata": {},
   "outputs": [
    {
     "name": "stdout",
     "output_type": "stream",
     "text": [
      "Before padding:  218 - 189 - 141\n",
      "After padding:  1000 - 1000 - 1000\n"
     ]
    }
   ],
   "source": [
    "# maximal number of words in one review - truncate and pad input sequences accordingly\n",
    "max_review_length = 1000\n",
    "print('Before padding: ', len(X_train[0]), '-', len(X_train[1]), '-', len(X_train[2]))\n",
    "x_train = keras.preprocessing.sequence.pad_sequences(X_train, maxlen=max_review_length)\n",
    "x_test = keras.preprocessing.sequence.pad_sequences(X_test, maxlen=max_review_length)\n",
    "print('After padding: ', len(x_train[0]), '-', len(x_train[1]), '-', len(x_train[2]))"
   ]
  },
  {
   "cell_type": "code",
   "execution_count": 8,
   "metadata": {},
   "outputs": [
    {
     "name": "stdout",
     "output_type": "stream",
     "text": [
      "x_train shape: (25000, 1000)\n",
      "y_train shape: (25000,)\n",
      "x_test shape: (25000, 1000)\n",
      "y_test shape: (25000,)\n"
     ]
    }
   ],
   "source": [
    "print('x_train shape:', x_train.shape)\n",
    "print('y_train shape:', y_train.shape)\n",
    "print('x_test shape:', x_test.shape)\n",
    "print('y_test shape:', y_test.shape)"
   ]
  },
  {
   "cell_type": "code",
   "execution_count": 9,
   "metadata": {},
   "outputs": [
    {
     "name": "stdout",
     "output_type": "stream",
     "text": [
      "Total number of words in Training Data: 25000000\n"
     ]
    },
    {
     "data": {
      "image/png": "[encoded data removed]",
      "text/plain": [
       "<Figure size 432x288 with 1 Axes>"
      ]
     },
     "metadata": {
      "needs_background": "light"
     },
     "output_type": "display_data"
    }
   ],
   "source": [
    "print(\"Total number of words in Training Data:\", len(np.hstack(x_train)))\n",
    "bins = 50\n",
    "x = np.arange(bins)\n",
    "hist, bin_edges = np.histogram(x_train, bins)\n",
    "plt.xlim([0,bins])\n",
    "plt.xlabel('Bins with each %i different Words' %(top_words/bins))\n",
    "plt.ylabel('Number of Words in each Bin')\n",
    "plt.bar(x, hist, align='edge')\n",
    "plt.show()"
   ]
  },
  {
   "cell_type": "markdown",
   "metadata": {},
   "source": [
    "## MLP"
   ]
  },
  {
   "cell_type": "code",
   "execution_count": 10,
   "metadata": {},
   "outputs": [
    {
     "name": "stdout",
     "output_type": "stream",
     "text": [
      "Model: \"sequential\"\n",
      "_________________________________________________________________\n",
      "Layer (type)                 Output Shape              Param #   \n",
      "=================================================================\n",
      "embedding (Embedding)        (None, 1000, 32)          640000    \n",
      "_________________________________________________________________\n",
      "flatten (Flatten)            (None, 32000)             0         \n",
      "_________________________________________________________________\n",
      "dropout (Dropout)            (None, 32000)             0         \n",
      "_________________________________________________________________\n",
      "dense (Dense)                (None, 10)                320010    \n",
      "_________________________________________________________________\n",
      "dropout_1 (Dropout)          (None, 10)                0         \n",
      "_________________________________________________________________\n",
      "dense_1 (Dense)              (None, 1)                 11        \n",
      "=================================================================\n",
      "Total params: 960,021\n",
      "Trainable params: 960,021\n",
      "Non-trainable params: 0\n",
      "_________________________________________________________________\n",
      "None\n",
      "Train on 25000 samples, validate on 25000 samples\n",
      "Epoch 1/10\n",
      "25000/25000 [==============================] - 9s 340us/sample - loss: 0.6939 - accuracy: 0.4996 - val_loss: 0.6931 - val_accuracy: 0.4998\n",
      "Epoch 2/10\n",
      "25000/25000 [==============================] - 7s 277us/sample - loss: 0.6659 - accuracy: 0.5588 - val_loss: 0.4768 - val_accuracy: 0.8064\n",
      "Epoch 3/10\n",
      "25000/25000 [==============================] - 7s 277us/sample - loss: 0.3580 - accuracy: 0.8619 - val_loss: 0.2890 - val_accuracy: 0.8821\n",
      "Epoch 4/10\n",
      "25000/25000 [==============================] - 7s 277us/sample - loss: 0.2205 - accuracy: 0.9286 - val_loss: 0.2938 - val_accuracy: 0.8828\n",
      "Epoch 5/10\n",
      "25000/25000 [==============================] - 7s 276us/sample - loss: 0.1543 - accuracy: 0.9562 - val_loss: 0.2995 - val_accuracy: 0.8851\n",
      "Epoch 6/10\n",
      "25000/25000 [==============================] - 7s 280us/sample - loss: 0.1131 - accuracy: 0.9698 - val_loss: 0.3299 - val_accuracy: 0.8834\n",
      "Epoch 7/10\n",
      "25000/25000 [==============================] - 7s 279us/sample - loss: 0.0888 - accuracy: 0.9787 - val_loss: 0.3692 - val_accuracy: 0.8814\n",
      "Epoch 8/10\n",
      "25000/25000 [==============================] - 7s 279us/sample - loss: 0.0765 - accuracy: 0.9820 - val_loss: 0.3678 - val_accuracy: 0.8793\n",
      "Epoch 9/10\n",
      "25000/25000 [==============================] - 7s 279us/sample - loss: 0.0626 - accuracy: 0.9863 - val_loss: 0.4207 - val_accuracy: 0.8790\n",
      "Epoch 10/10\n",
      "25000/25000 [==============================] - 7s 279us/sample - loss: 0.0568 - accuracy: 0.9875 - val_loss: 0.4425 - val_accuracy: 0.8766\n",
      "25000/1 - 1s - loss: 0.4329 - accuracy: 0.8766\n"
     ]
    },
    {
     "data": {
      "image/png": "[encoded data removed]",
      "text/plain": [
       "<Figure size 432x288 with 1 Axes>"
      ]
     },
     "metadata": {
      "needs_background": "light"
     },
     "output_type": "display_data"
    },
    {
     "data": {
      "image/png": "[encoded data removed]",
      "text/plain": [
       "<Figure size 432x288 with 1 Axes>"
      ]
     },
     "metadata": {
      "needs_background": "light"
     },
     "output_type": "display_data"
    },
    {
     "name": "stdout",
     "output_type": "stream",
     "text": [
      "Final test loss and accuracy : [0.4424912354850769, 0.8766]\n"
     ]
    }
   ],
   "source": [
    "batch_size = 128\n",
    "model = keras.models.Sequential()\n",
    "model.add(keras.layers.Embedding(top_words, 32, input_length=max_review_length))\n",
    "model.add(keras.layers.Flatten())\n",
    "model.add(keras.layers.Dropout(0.5))\n",
    "model.add(keras.layers.Dense(10, activation='relu'))\n",
    "model.add(keras.layers.Dropout(0.5))\n",
    "model.add(keras.layers.Dense(1, activation='sigmoid'))\n",
    "\n",
    "print(model.summary())\n",
    "\n",
    "model.compile(loss='binary_crossentropy', optimizer='adam', metrics=['accuracy'])\n",
    "\n",
    "history = model.fit(x_train, y_train, batch_size = batch_size, epochs = 10, validation_data = (x_test, y_test), verbose = 1)\n",
    "score = model.evaluate(x_test, y_test, batch_size = batch_size, verbose = 2)\n",
    "\n",
    "plotHistory(history)\n",
    "print(\"Final test loss and accuracy :\", score)"
   ]
  },
  {
   "cell_type": "markdown",
   "metadata": {},
   "source": [
    "## CNN"
   ]
  },
  {
   "cell_type": "code",
   "execution_count": 11,
   "metadata": {},
   "outputs": [
    {
     "name": "stdout",
     "output_type": "stream",
     "text": [
      "Model: \"sequential_1\"\n",
      "_________________________________________________________________\n",
      "Layer (type)                 Output Shape              Param #   \n",
      "=================================================================\n",
      "embedding_1 (Embedding)      (None, 1000, 32)          640000    \n",
      "_________________________________________________________________\n",
      "conv1d (Conv1D)              (None, 1000, 32)          3104      \n",
      "_________________________________________________________________\n",
      "max_pooling1d (MaxPooling1D) (None, 500, 32)           0         \n",
      "_________________________________________________________________\n",
      "flatten_1 (Flatten)          (None, 16000)             0         \n",
      "_________________________________________________________________\n",
      "dense_2 (Dense)              (None, 20)                320020    \n",
      "_________________________________________________________________\n",
      "dense_3 (Dense)              (None, 1)                 21        \n",
      "=================================================================\n",
      "Total params: 963,145\n",
      "Trainable params: 963,145\n",
      "Non-trainable params: 0\n",
      "_________________________________________________________________\n",
      "None\n",
      "Train on 25000 samples, validate on 25000 samples\n",
      "Epoch 1/10\n",
      "25000/25000 [==============================] - 9s 364us/sample - loss: 0.4664 - accuracy: 0.7490 - val_loss: 0.2814 - val_accuracy: 0.8830\n",
      "Epoch 2/10\n",
      "25000/25000 [==============================] - 7s 289us/sample - loss: 0.1876 - accuracy: 0.9267 - val_loss: 0.2849 - val_accuracy: 0.8849\n",
      "Epoch 3/10\n",
      "25000/25000 [==============================] - 7s 294us/sample - loss: 0.1044 - accuracy: 0.9647 - val_loss: 0.3316 - val_accuracy: 0.8764\n",
      "Epoch 4/10\n",
      "25000/25000 [==============================] - 7s 290us/sample - loss: 0.0583 - accuracy: 0.9826 - val_loss: 0.4219 - val_accuracy: 0.8687\n",
      "Epoch 5/10\n",
      "25000/25000 [==============================] - 8s 302us/sample - loss: 0.0313 - accuracy: 0.9924 - val_loss: 0.4977 - val_accuracy: 0.8654\n",
      "Epoch 6/10\n",
      "25000/25000 [==============================] - 7s 291us/sample - loss: 0.0153 - accuracy: 0.9971 - val_loss: 0.5968 - val_accuracy: 0.8623\n",
      "Epoch 7/10\n",
      "25000/25000 [==============================] - 7s 290us/sample - loss: 0.0065 - accuracy: 0.9991 - val_loss: 0.6645 - val_accuracy: 0.8619\n",
      "Epoch 8/10\n",
      "25000/25000 [==============================] - 7s 289us/sample - loss: 0.0024 - accuracy: 0.9999 - val_loss: 0.7428 - val_accuracy: 0.8625\n",
      "Epoch 9/10\n",
      "25000/25000 [==============================] - 7s 288us/sample - loss: 8.9740e-04 - accuracy: 1.0000 - val_loss: 0.8033 - val_accuracy: 0.8620\n",
      "Epoch 10/10\n",
      "25000/25000 [==============================] - 7s 289us/sample - loss: 4.6267e-04 - accuracy: 1.0000 - val_loss: 0.8468 - val_accuracy: 0.8618\n",
      "25000/1 - 2s - loss: 0.7676 - accuracy: 0.8618\n"
     ]
    },
    {
     "data": {
      "image/png": "[encoded data removed]",
      "text/plain": [
       "<Figure size 432x288 with 1 Axes>"
      ]
     },
     "metadata": {
      "needs_background": "light"
     },
     "output_type": "display_data"
    },
    {
     "data": {
      "image/png": "[encoded data removed]",
      "text/plain": [
       "<Figure size 432x288 with 1 Axes>"
      ]
     },
     "metadata": {
      "needs_background": "light"
     },
     "output_type": "display_data"
    },
    {
     "name": "stdout",
     "output_type": "stream",
     "text": [
      "Final test loss and accuracy : [0.8467501047897339, 0.86176]\n"
     ]
    }
   ],
   "source": [
    "batch_size = 128\n",
    "model = keras.models.Sequential()\n",
    "model.add(keras.layers.Embedding(top_words, 32, input_length = max_review_length))\n",
    "model.add(keras.layers.Conv1D(filters=32, kernel_size=3, padding='same', activation='relu'))\n",
    "model.add(keras.layers.MaxPooling1D(pool_size=2))\n",
    "model.add(keras.layers.Flatten())\n",
    "model.add(keras.layers.Dense(20, activation='relu'))\n",
    "model.add(keras.layers.Dense(1, activation='sigmoid'))\n",
    "\n",
    "print(model.summary())\n",
    "\n",
    "model.compile(loss='binary_crossentropy', optimizer='adam', metrics=['accuracy'])\n",
    "\n",
    "history = model.fit(x_train, y_train, batch_size = batch_size, epochs = 10, validation_data = (x_test, y_test), verbose = 1)\n",
    "score = model.evaluate(x_test, y_test, batch_size = batch_size, verbose = 2)\n",
    "\n",
    "plotHistory(history)\n",
    "print(\"Final test loss and accuracy :\", score)"
   ]
  },
  {
   "cell_type": "markdown",
   "metadata": {},
   "source": [
    "## RNN"
   ]
  },
  {
   "cell_type": "code",
   "execution_count": null,
   "metadata": {},
   "outputs": [
    {
     "name": "stdout",
     "output_type": "stream",
     "text": [
      "Model: \"sequential_2\"\n",
      "_________________________________________________________________\n",
      "Layer (type)                 Output Shape              Param #   \n",
      "=================================================================\n",
      "embedding_2 (Embedding)      (None, 1000, 32)          640000    \n",
      "_________________________________________________________________\n",
      "simple_rnn (SimpleRNN)       (None, 80)                9040      \n",
      "_________________________________________________________________\n",
      "dense_4 (Dense)              (None, 1)                 81        \n",
      "=================================================================\n",
      "Total params: 649,121\n",
      "Trainable params: 649,121\n",
      "Non-trainable params: 0\n",
      "_________________________________________________________________\n",
      "None\n",
      "Train on 25000 samples, validate on 25000 samples\n",
      "Epoch 1/10\n",
      "25000/25000 [==============================] - 539s 22ms/sample - loss: 1373634.5950 - accuracy: 0.6250 - val_loss: 0.4324 - val_accuracy: 0.7991\n",
      "Epoch 2/10\n",
      "21376/25000 [========================>.....] - ETA: 1:08 - loss: 0.3643 - accuracy: 0.8414"
     ]
    }
   ],
   "source": [
    "batch_size = 32\n",
    "model = keras.models.Sequential()\n",
    "model.add(keras.layers.Embedding(top_words, output_dim = 32, input_length = max_review_length))\n",
    "model.add(keras.layers.SimpleRNN(80, activation='relu', dropout = 0.5))\n",
    "model.add(keras.layers.Dense(1, activation = 'sigmoid'))\n",
    "\n",
    "print(model.summary())\n",
    "\n",
    "model.compile(loss='binary_crossentropy', optimizer='adam', metrics=['accuracy'])\n",
    "\n",
    "history = model.fit(x_train, y_train, batch_size = batch_size, epochs = 10, validation_data = (x_test, y_test), verbose = 1)\n",
    "score = model.evaluate(x_test, y_test, batch_size = batch_size, verbose = 2)\n",
    "\n",
    "plotHistory(history)\n",
    "print(\"Final test loss and accuracy :\", score)"
   ]
  },
  {
   "cell_type": "markdown",
   "metadata": {},
   "source": [
    "## LSTM"
   ]
  },
  {
   "cell_type": "code",
   "execution_count": null,
   "metadata": {},
   "outputs": [],
   "source": [
    "batch_size = 32\n",
    "model = keras.models.Sequential()\n",
    "model.add(keras.layers.Embedding(top_words, output_dim = 32, input_length=max_review_length))\n",
    "model.add(keras.layers.LSTM(40, dropout=0.2, recurrent_dropout=0.2))\n",
    "model.add(keras.layers.Dense(1, activation = 'sigmoid'))\n",
    "\n",
    "print(model.summary())\n",
    "\n",
    "model.compile(loss = 'binary_crossentropy', optimizer = 'adam', metrics = ['accuracy'])\n",
    "\n",
    "history = model.fit(x_train, y_train, batch_size = batch_size, epochs = 10, validation_data = (x_test, y_test), verbose = 1)\n",
    "score = model.evaluate(x_test, y_test, batch_size = batch_size, verbose = 2)\n",
    "\n",
    "plotHistory(history)\n",
    "print(\"Final test loss and accuracy :\", score)"
   ]
  },
  {
   "cell_type": "markdown",
   "metadata": {},
   "source": [
    "## Bidirectional LSTM"
   ]
  },
  {
   "cell_type": "code",
   "execution_count": null,
   "metadata": {},
   "outputs": [],
   "source": [
    "batch_size = 32\n",
    "model = keras.models.Sequential()\n",
    "model.add(keras.layers.Embedding(top_words, output_dim = 128, input_length=max_review_length))\n",
    "model.add(keras.layers.Bidirectional(keras.layers.LSTM(20, dropout=0.2, recurrent_dropout=0.2)))\n",
    "model.add(keras.layers.Dense(1, activation = 'sigmoid'))\n",
    "\n",
    "print(model.summary())\n",
    "\n",
    "model.compile(loss = 'binary_crossentropy', optimizer = 'adam', metrics = ['accuracy'])\n",
    "\n",
    "history = model.fit(x_train, y_train, batch_size = batch_size, epochs = 10, validation_data = (x_test, y_test), verbose = 1)\n",
    "score = model.evaluate(x_test, y_test, batch_size = batch_size, verbose = 2)\n",
    "\n",
    "plotHistory(history)\n",
    "print(\"Final test loss and accuracy :\", score)"
   ]
  },
  {
   "cell_type": "markdown",
   "metadata": {},
   "source": [
    "## Small LSTM"
   ]
  },
  {
   "cell_type": "code",
   "execution_count": null,
   "metadata": {},
   "outputs": [],
   "source": [
    "batch_size = 32\n",
    "model = keras.models.Sequential()\n",
    "model.add(keras.layers.Embedding(top_words, output_dim = 128, input_length=max_review_length))\n",
    "model.add(keras.layers.LSTM(4, dropout=0.2, recurrent_dropout=0.2))\n",
    "model.add(keras.layers.Dense(1, activation = 'sigmoid'))\n",
    "\n",
    "print(model.summary())\n",
    "\n",
    "model.compile(loss = 'binary_crossentropy', optimizer = 'adam', metrics = ['accuracy'])\n",
    "\n",
    "history = model.fit(x_train, y_train, batch_size = batch_size, epochs = 10, validation_data = (x_test, y_test), verbose = 1)\n",
    "score = model.evaluate(x_test, y_test, batch_size = batch_size, verbose = 2)\n",
    "\n",
    "plotHistory(history)\n",
    "print(\"Final test loss and accuracy :\", score)"
   ]
  },
  {
   "cell_type": "code",
   "execution_count": null,
   "metadata": {},
   "outputs": [],
   "source": [
    "from termcolor import colored\n",
    "\n",
    "# Reload Dataset with complete text\n",
    "(X_train_plot, y_train), (X_test_plot, y_test) = keras.datasets.imdb.load_data()\n",
    "\n",
    "def plotReviewDB(test_or_train, review_id):\n",
    "    word_to_id = keras.datasets.imdb.get_word_index()\n",
    "    word_to_id = {k:(v+3) for k,v in word_to_id.items()}\n",
    "    word_to_id[\"<padded>\"] = 0\n",
    "    word_to_id[\"<start>\"] = 1\n",
    "    word_to_id[\"<unknown>\"] = 2\n",
    "\n",
    "    sentiment = 0\n",
    "    id_to_word = {value:key for key,value in word_to_id.items()}\n",
    "    if test_or_train is 'train':\n",
    "        print(' '.join(id_to_word[id] for id in X_train_plot[review_id] ))\n",
    "        sentiment = y_train[review_id]\n",
    "    else:\n",
    "        print(' '.join(id_to_word[id] for id in X_test_plot[review_id] ))\n",
    "        sentiment = y_test[review_id]\n",
    "    if sentiment == 0:\n",
    "        print(colored('Review is labelled as Negative', 'red'))\n",
    "    if sentiment == 1:\n",
    "        print(colored('Review is labelled as Positive', 'green'))\n",
    "        \n",
    "def predictSentimentLSTM(model, review_id):\n",
    "    prediction = model.predict(x_test[review_id].reshape([1,max_review_length]), batch_size = batch_size, verbose = 2)\n",
    "    if prediction == 0:\n",
    "        print(colored('Review predicted to be Negative', 'red'))\n",
    "    if prediction >= 1:\n",
    "        print(colored('Review predicted to be Positive', 'green'))\n",
    "    print('Groundtruth:')\n",
    "    plotReviewDB('test', review_id)"
   ]
  },
  {
   "cell_type": "code",
   "execution_count": null,
   "metadata": {},
   "outputs": [],
   "source": [
    "predictSentimentLSTM(model,1)"
   ]
  },
  {
   "cell_type": "markdown",
   "metadata": {},
   "source": [
    "## Ähnliche Netze \n",
    "Analyse der Wertung - Cloudimplementierung: https://app.monkeylearn.com/main/classifiers/cl_pi3C7JiL/"
   ]
  },
  {
   "cell_type": "markdown",
   "metadata": {},
   "source": [
    "## Quellen\n",
    "Allgemeine Einführung: https://towardsdatascience.com/deep-learning-for-sentiment-analysis-7da8006bf6c1 <br>\n",
    "LSTMs: https://colah.github.io/posts/2015-08-Understanding-LSTMs/ <br>\n",
    "Netflix-Reviews Klassifikator: https://towardsdatascience.com/sentiment-analysis-with-deep-learning-62d4d0166ef6 <br>\n",
    "... dazugehöriger GitHub-Code: https://github.com/artem-oppermann/Sentiment-Analysis-of-Netflix-Reviews\n"
   ]
  }
 ],
 "metadata": {
  "kernelspec": {
   "display_name": "Python 3",
   "language": "python",
   "name": "python3"
  },
  "language_info": {
   "codemirror_mode": {
    "name": "ipython",
    "version": 3
   },
   "file_extension": ".py",
   "mimetype": "text/x-python",
   "name": "python",
   "nbconvert_exporter": "python",
   "pygments_lexer": "ipython3",
   "version": "3.7.4"
  }
 },
 "nbformat": 4,
 "nbformat_minor": 2
}
