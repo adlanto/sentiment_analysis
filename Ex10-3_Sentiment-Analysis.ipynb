{
 "cells": [
  {
   "cell_type": "markdown",
   "metadata": {},
   "source": [
    "# Sentiment Analysis\n",
    "Die **\"Stimmungsanalyse\"** gehört zu den **Natural Language Processing (NLP)** Modellen.<br>\n",
    "Meist ermöglicht die Sentiment Analysis eine Klassifizierung von wenigen Sätzen anhand einer der folgenden Kriterien: \n",
    "* **Wertung:** Negativ, Neutral, Positiv\n",
    "* **Themengebiet**, über das geschrieben wird\n",
    "* **Informationen zur Person** hinter der Meinung <br>\n",
    "\n",
    "**Idee:** Viele Daten auf die **wesentlichen Informationen** (den Nutzen) herunterbrechen, z.B. bei Marktanalysen, Produktrezensionen oder Kundenservices."
   ]
  },
  {
   "cell_type": "markdown",
   "metadata": {},
   "source": [
    "## Recurrent Neura{
 "cells": [
  {
   "cell_type": "markdown",
   "metadata": {},
   "source": [
    "# Sentiment Analysis\n",
    "Die **\"Stimmungsanalyse\"** gehört zu den **Natural Language Processing (NLP)** Modellen.<br>\n",
    "Meist ermöglicht die Sentiment Analysis eine Klassifizierung von wenigen Sätzen anhand einer der folgenden Kriterien: \n",
    "* **Wertung:** Negativ, Neutral, Positiv\n",
    "* **Themengebiet**, über das geschrieben wird\n",
    "* **Informationen zur Person** hinter der Meinung <br>\n",
    "\n",
    "**Idee:** Viele Daten auf die **wesentlichen Informationen** (den Nutzen) herunterbrechen, z.B. bei Marktanalysen, Produktrezensionen oder Kundenservices."
   ]
  },
  {
   "cell_type": "markdown",
   "metadata": {},
   "source": [
    "## Recurrent Neural Networks (RNNs)\n",
    "Besondere Architektur für **sequentielle Daten** wie Texte.\n",
    "Klassische neuronale Netze arbeiten Buchstaben für Buchstaben eines Textes ab, sehen keinen Zusammenhang. <br><br>\n",
    "**Idee:** Ausgang des Netzes abhängig vom **aktuellen und den vorherigen Buchstaben**. Die Berechnung der Vorherigen wiederholt sich damit - *recurrent*. Bildlich gesprochen haben RNNs ein Kurzzeitgedächtnis.<br><br>\n",
    "**Problem:** Betrachtbare Sequenz zwar theoretisch unendlich lange, praktisch jedoch **hohe Rechenleistung für Wiederholungen** erforderlich."
   ]
  },
  {
   "cell_type": "markdown",
   "metadata": {},
   "source": [
    "## Long Short-Term Memory networks (LSTMs)\n",
    "**Lösung:** \"Kurzes\" Kurzzeitgedächtnis des RNNs soll zu einem **\"langen Kurzzeitgedächtnis\"** ausgebaut werden.<br>\n",
    " <br> **Idee:** Komplexere Architektur mit **Zellen, die Bedeutung einzelner, längerer Sequenzen speichern** und zusammenfügen soll. Einzelne Informationen können vergessen, in Kontext zu anderen Informationen gebracht oder durch neue Informationen ergänzt werden (durch Forget, Output und Input Gates)"
   ]
  },
  {
   "cell_type": "code",
   "execution_count": 1,
   "metadata": {},
   "outputs": [],
   "source": [
    "import os\n",
    "import tensorflow as tf\n",
    "import numpy as np\n",
    "import matplotlib.pyplot as plt\n",
    "from tensorflow import keras"
   ]
  },
  {
   "cell_type": "code",
   "execution_count": 2,
   "metadata": {},
   "outputs": [],
   "source": [
    "os.environ['TF_CPP_MIN_LOG_LEVEL'] = '2'\n",
    "assert tf.__version__.startswith('2.')\n",
    "#tf.debugging.set_log_device_placement(True)\n",
    "\n",
    "# fix random seed for reproducibility\n",
    "tf.random.set_seed(22)\n",
    "np.random.seed(7)"
   ]
  },
  {
   "cell_type": "code",
   "execution_count": 3,
   "metadata": {},
   "outputs": [],
   "source": [
    "def plotHistory(history):\n",
    "    # Plot training & validation accuracy values\n",
    "    plt.plot(history.history['accuracy'])\n",
    "    plt.plot(history.history['val_accuracy'])\n",
    "    plt.title('Model accuracy')\n",
    "    plt.ylabel('Accuracy')\n",
    "    plt.xlabel('Epoch')\n",
    "    plt.legend(['Train', 'Validation'], loc='upper left')\n",
    "    plt.show()\n",
    "\n",
    "    # Plot training & validation loss values\n",
    "    plt.plot(history.history['loss'])\n",
    "    plt.plot(history.history['val_loss'])\n",
    "    plt.title('Model loss')\n",
    "    plt.ylabel('Loss')\n",
    "    plt.xlabel('Epoch')\n",
    "    plt.legend(['Train', 'Validation'], loc='upper left')\n",
    "    plt.show()"
   ]
  },
  {
   "cell_type": "code",
   "execution_count": 4,
   "metadata": {},
   "outputs": [
    {
     "name": "stdout",
     "output_type": "stream",
     "text": [
      "Number of different words in Training Data: 9998\n",
      "Number of different words in Testing Data: 9951\n"
     ]
    }
   ],
   "source": [
    "# only keep the top n most used words, zero the rest\n",
    "top_words = 10000\n",
    "# load the dataset\n",
    "(X_train, y_train), (X_test, y_test) = keras.datasets.imdb.load_data(num_words=top_words)\n",
    "print(\"Number of different words in Training Data:\", len(np.unique(np.hstack(X_train))))\n",
    "print(\"Number of different words in Testing Data:\", len(np.unique(np.hstack(X_test))))"
   ]
  },
  {
   "cell_type": "code",
   "execution_count": 5,
   "metadata": {},
   "outputs": [
    {
     "name": "stdout",
     "output_type": "stream",
     "text": [
      "X_train: [list([1, 14, 22, 16, 43, 530, 973, 1622, 1385, 65, 458, 4468, 66, 3941, 4, 173, 36, 256, 5, 25, 100, 43, 838, 112, 50, 670, 2, 9, 35, 480, 284, 5, 150, 4, 172, 112, 167, 2, 336, 385, 39, 4, 172, 4536, 1111, 17, 546, 38, 13, 447, 4, 192, 50, 16, 6, 147, 2025, 19, 14, 22, 4, 1920, 4613, 469, 4, 22, 71, 87, 12, 16, 43, 530, 38, 76, 15, 13, 1247, 4, 22, 17, 515, 17, 12, 16, 626, 18, 2, 5, 62, 386, 12, 8, 316, 8, 106, 5, 4, 2223, 5244, 16, 480, 66, 3785, 33, 4, 130, 12, 16, 38, 619, 5, 25, 124, 51, 36, 135, 48, 25, 1415, 33, 6, 22, 12, 215, 28, 77, 52, 5, 14, 407, 16, 82, 2, 8, 4, 107, 117, 5952, 15, 256, 4, 2, 7, 3766, 5, 723, 36, 71, 43, 530, 476, 26, 400, 317, 46, 7, 4, 2, 1029, 13, 104, 88, 4, 381, 15, 297, 98, 32, 2071, 56, 26, 141, 6, 194, 7486, 18, 4, 226, 22, 21, 134, 476, 26, 480, 5, 144, 30, 5535, 18, 51, 36, 28, 224, 92, 25, 104, 4, 226, 65, 16, 38, 1334, 88, 12, 16, 283, 5, 16, 4472, 113, 103, 32, 15, 16, 5345, 19, 178, 32])\n",
      " list([1, 194, 1153, 194, 8255, 78, 228, 5, 6, 1463, 4369, 5012, 134, 26, 4, 715, 8, 118, 1634, 14, 394, 20, 13, 119, 954, 189, 102, 5, 207, 110, 3103, 21, 14, 69, 188, 8, 30, 23, 7, 4, 249, 126, 93, 4, 114, 9, 2300, 1523, 5, 647, 4, 116, 9, 35, 8163, 4, 229, 9, 340, 1322, 4, 118, 9, 4, 130, 4901, 19, 4, 1002, 5, 89, 29, 952, 46, 37, 4, 455, 9, 45, 43, 38, 1543, 1905, 398, 4, 1649, 26, 6853, 5, 163, 11, 3215, 2, 4, 1153, 9, 194, 775, 7, 8255, 2, 349, 2637, 148, 605, 2, 8003, 15, 123, 125, 68, 2, 6853, 15, 349, 165, 4362, 98, 5, 4, 228, 9, 43, 2, 1157, 15, 299, 120, 5, 120, 174, 11, 220, 175, 136, 50, 9, 4373, 228, 8255, 5, 2, 656, 245, 2350, 5, 4, 9837, 131, 152, 491, 18, 2, 32, 7464, 1212, 14, 9, 6, 371, 78, 22, 625, 64, 1382, 9, 8, 168, 145, 23, 4, 1690, 15, 16, 4, 1355, 5, 28, 6, 52, 154, 462, 33, 89, 78, 285, 16, 145, 95])\n",
      " list([1, 14, 47, 8, 30, 31, 7, 4, 249, 108, 7, 4, 5974, 54, 61, 369, 13, 71, 149, 14, 22, 112, 4, 2401, 311, 12, 16, 3711, 33, 75, 43, 1829, 296, 4, 86, 320, 35, 534, 19, 263, 4821, 1301, 4, 1873, 33, 89, 78, 12, 66, 16, 4, 360, 7, 4, 58, 316, 334, 11, 4, 1716, 43, 645, 662, 8, 257, 85, 1200, 42, 1228, 2578, 83, 68, 3912, 15, 36, 165, 1539, 278, 36, 69, 2, 780, 8, 106, 14, 6905, 1338, 18, 6, 22, 12, 215, 28, 610, 40, 6, 87, 326, 23, 2300, 21, 23, 22, 12, 272, 40, 57, 31, 11, 4, 22, 47, 6, 2307, 51, 9, 170, 23, 595, 116, 595, 1352, 13, 191, 79, 638, 89, 2, 14, 9, 8, 106, 607, 624, 35, 534, 6, 227, 7, 129, 113])] ...\n",
      "y_train: [1 0 0] ...\n"
     ]
    }
   ],
   "source": [
    "print('X_train:', X_train[0:3], '...')\n",
    "print('y_train:', y_train[0:3], '...')"
   ]
  },
  {
   "cell_type": "code",
   "execution_count": 6,
   "metadata": {},
   "outputs": [
    {
     "name": "stdout",
     "output_type": "stream",
     "text": [
      "Review length: \n",
      "Mean 238.71 words (176.493674)\n"
     ]
    },
    {
     "data": {
      "image/png": "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\n",
      "text/plain": [
       "<Figure size 432x288 with 1 Axes>"
      ]
     },
     "metadata": {
      "needs_background": "light"
     },
     "output_type": "display_data"
    },
    {
     "name": "stdout",
     "output_type": "stream",
     "text": [
      "Maximum word length training data: 2494\n",
      "Maximum word length testing data: 2315\n"
     ]
    }
   ],
   "source": [
    "# Summarize review length\n",
    "print(\"Review length: \")\n",
    "result = [len(x) for x in X_train]\n",
    "print(\"Mean %.2f words (%f)\" % (np.mean(result), np.std(result)))\n",
    "# plot review length\n",
    "plt.boxplot(result)\n",
    "plt.show()\n",
    "print(\"Maximum word length training data:\", (max([len(sequence) for sequence in X_train])))\n",
    "print(\"Maximum word length testing data:\", (max([len(sequence) for sequence in X_test])))"
   ]
  },
  {
   "cell_type": "code",
   "execution_count": 7,
   "metadata": {},
   "outputs": [
    {
     "name": "stdout",
     "output_type": "stream",
     "text": [
      "Before padding:  218 - 189 - 141\n",
      "After padding:  250 - 250 - 250\n"
     ]
    }
   ],
   "source": [
    "# maximal number of words in one review - truncate and pad input sequences accordingly\n",
    "max_review_length = 250\n",
    "print('Before padding: ', len(X_train[0]), '-', len(X_train[1]), '-', len(X_train[2]))\n",
    "x_train = keras.preprocessing.sequence.pad_sequences(X_train, maxlen=max_review_length)\n",
    "x_test = keras.preprocessing.sequence.pad_sequences(X_test, maxlen=max_review_length)\n",
    "print('After padding: ', len(x_train[0]), '-', len(x_train[1]), '-', len(x_train[2]))"
   ]
  },
  {
   "cell_type": "code",
   "execution_count": 8,
   "metadata": {},
   "outputs": [
    {
     "name": "stdout",
     "output_type": "stream",
     "text": [
      "x_train shape: (25000, 250)\n",
      "y_train shape: (25000,)\n",
      "x_test shape: (25000, 250)\n",
      "y_test shape: (25000,)\n"
     ]
    }
   ],
   "source": [
    "print('x_train shape:', x_train.shape)\n",
    "print('y_train shape:', y_train.shape)\n",
    "print('x_test shape:', x_test.shape)\n",
    "print('y_test shape:', y_test.shape)"
   ]
  },
  {
   "cell_type": "code",
   "execution_count": 9,
   "metadata": {},
   "outputs": [
    {
     "name": "stdout",
     "output_type": "stream",
     "text": [
      "Total number of words in Training Data: 6250000\n"
     ]
    },
    {
     "data": {
      "image/png": "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\n",
      "text/plain": [
       "<Figure size 432x288 with 1 Axes>"
      ]
     },
     "metadata": {
      "needs_background": "light"
     },
     "output_type": "display_data"
    }
   ],
   "source": [
    "print(\"Total number of words in Training Data:\", len(np.hstack(x_train)))\n",
    "bins = 100\n",
    "x = np.arange(bins)\n",
    "hist, bin_edges = np.histogram(x_train, bins)\n",
    "plt.xlim([0,bins])\n",
    "plt.xlabel('Bins with each %i different Words' %(top_words/bins))\n",
    "plt.ylabel('Number of Words in each Bin')\n",
    "plt.bar(x, hist, align='edge')\n",
    "plt.show()"
   ]
  },
  {
   "cell_type": "markdown",
   "metadata": {},
   "source": [
    "## MLP"
   ]
  },
  {
   "cell_type": "code",
   "execution_count": 10,
   "metadata": {},
   "outputs": [
    {
     "name": "stdout",
     "output_type": "stream",
     "text": [
      "Model: \"sequential\"\n",
      "_________________________________________________________________\n",
      "Layer (type)                 Output Shape              Param #   \n",
      "=================================================================\n",
      "embedding (Embedding)        (None, 250, 32)           320000    \n",
      "_________________________________________________________________\n",
      "flatten (Flatten)            (None, 8000)              0         \n",
      "_________________________________________________________________\n",
      "dropout (Dropout)            (None, 8000)              0         \n",
      "_________________________________________________________________\n",
      "dense (Dense)                (None, 10)                80010     \n",
      "_________________________________________________________________\n",
      "dropout_1 (Dropout)          (None, 10)                0         \n",
      "_________________________________________________________________\n",
      "dense_1 (Dense)              (None, 1)                 11        \n",
      "=================================================================\n",
      "Total params: 400,021\n",
      "Trainable params: 400,021\n",
      "Non-trainable params: 0\n",
      "_________________________________________________________________\n",
      "None\n",
      "Train on 25000 samples, validate on 25000 samples\n",
      "Epoch 1/10\n",
      "25000/25000 [==============================] - 4s 171us/sample - loss: 0.6860 - accuracy: 0.5347 - val_loss: 0.6056 - val_accuracy: 0.7579\n",
      "Epoch 2/10\n",
      "25000/25000 [==============================] - 3s 113us/sample - loss: 0.4163 - accuracy: 0.8280 - val_loss: 0.3006 - val_accuracy: 0.8780\n",
      "Epoch 3/10\n",
      "25000/25000 [==============================] - 3s 113us/sample - loss: 0.2692 - accuracy: 0.9044 - val_loss: 0.2833 - val_accuracy: 0.8805\n",
      "Epoch 4/10\n",
      "25000/25000 [==============================] - 3s 112us/sample - loss: 0.2026 - accuracy: 0.9374 - val_loss: 0.2980 - val_accuracy: 0.8811\n",
      "Epoch 5/10\n",
      "25000/25000 [==============================] - 3s 109us/sample - loss: 0.1534 - accuracy: 0.9561 - val_loss: 0.3200 - val_accuracy: 0.8770\n",
      "Epoch 6/10\n",
      "25000/25000 [==============================] - 3s 113us/sample - loss: 0.1189 - accuracy: 0.9671 - val_loss: 0.3359 - val_accuracy: 0.8760\n",
      "Epoch 7/10\n",
      "25000/25000 [==============================] - 3s 115us/sample - loss: 0.0983 - accuracy: 0.9746 - val_loss: 0.3740 - val_accuracy: 0.8760\n",
      "Epoch 8/10\n",
      "25000/25000 [==============================] - 3s 111us/sample - loss: 0.0869 - accuracy: 0.9784 - val_loss: 0.3863 - val_accuracy: 0.8755\n",
      "Epoch 9/10\n",
      "25000/25000 [==============================] - 3s 112us/sample - loss: 0.0712 - accuracy: 0.9830 - val_loss: 0.4316 - val_accuracy: 0.8758\n",
      "Epoch 10/10\n",
      "25000/25000 [==============================] - 3s 113us/sample - loss: 0.0663 - accuracy: 0.9837 - val_loss: 0.4432 - val_accuracy: 0.8732\n",
      "25000/1 - 1s - loss: 0.3148 - accuracy: 0.8732\n"
     ]
    },
    {
     "data": {
      "image/png": "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\n",
      "text/plain": [
       "<Figure size 432x288 with 1 Axes>"
      ]
     },
     "metadata": {
      "needs_background": "light"
     },
     "output_type": "display_data"
    },
    {
     "data": {
      "image/png": "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\n",
      "text/plain": [
       "<Figure size 432x288 with 1 Axes>"
      ]
     },
     "metadata": {
      "needs_background": "light"
     },
     "output_type": "display_data"
    },
    {
     "name": "stdout",
     "output_type": "stream",
     "text": [
      "Final test loss and accuracy : [0.44322351944446564, 0.87316]\n"
     ]
    }
   ],
   "source": [
    "batch_size = 128\n",
    "model = keras.models.Sequential()\n",
    "model.add(keras.layers.Embedding(top_words, 32, input_length=max_review_length))\n",
    "model.add(keras.layers.Flatten())\n",
    "model.add(keras.layers.Dropout(0.5))\n",
    "model.add(keras.layers.Dense(10, activation='relu'))\n",
    "model.add(keras.layers.Dropout(0.5))\n",
    "model.add(keras.layers.Dense(1, activation='sigmoid'))\n",
    "\n",
    "print(model.summary())\n",
    "\n",
    "model.compile(loss='binary_crossentropy', optimizer='adam', metrics=['accuracy'])\n",
    "\n",
    "history = model.fit(x_train, y_train, batch_size = batch_size, epochs = 10, validation_data = (x_test, y_test), verbose = 1)\n",
    "score = model.evaluate(x_test, y_test, batch_size = batch_size, verbose = 2)\n",
    "\n",
    "plotHistory(history)\n",
    "print(\"Final test loss and accuracy :\", score)"
   ]
  },
  {
   "cell_type": "markdown",
   "metadata": {},
   "source": [
    "## CNN"
   ]
  },
  {
   "cell_type": "code",
   "execution_count": 11,
   "metadata": {},
   "outputs": [
    {
     "name": "stdout",
     "output_type": "stream",
     "text": [
      "Model: \"sequential_1\"\n",
      "_________________________________________________________________\n",
      "Layer (type)                 Output Shape              Param #   \n",
      "=================================================================\n",
      "embedding_1 (Embedding)      (None, 250, 32)           320000    \n",
      "_________________________________________________________________\n",
      "conv1d (Conv1D)              (None, 250, 32)           3104      \n",
      "_________________________________________________________________\n",
      "max_pooling1d (MaxPooling1D) (None, 125, 32)           0         \n",
      "_________________________________________________________________\n",
      "flatten_1 (Flatten)          (None, 4000)              0         \n",
      "_________________________________________________________________\n",
      "dense_2 (Dense)              (None, 20)                80020     \n",
      "_________________________________________________________________\n",
      "dense_3 (Dense)              (None, 1)                 21        \n",
      "=================================================================\n",
      "Total params: 403,145\n",
      "Trainable params: 403,145\n",
      "Non-trainable params: 0\n",
      "_________________________________________________________________\n",
      "None\n",
      "Train on 25000 samples, validate on 25000 samples\n",
      "Epoch 1/10\n",
      "25000/25000 [==============================] - 5s 209us/sample - loss: 0.5004 - accuracy: 0.7183 - val_loss: 0.2988 - val_accuracy: 0.8739\n",
      "Epoch 2/10\n",
      "25000/25000 [==============================] - 3s 119us/sample - loss: 0.2214 - accuracy: 0.9118 - val_loss: 0.2826 - val_accuracy: 0.8831\n",
      "Epoch 3/10\n",
      "25000/25000 [==============================] - 3s 118us/sample - loss: 0.1523 - accuracy: 0.9449 - val_loss: 0.3203 - val_accuracy: 0.8743\n",
      "Epoch 4/10\n",
      "25000/25000 [==============================] - 3s 118us/sample - loss: 0.1099 - accuracy: 0.9625 - val_loss: 0.3741 - val_accuracy: 0.8659\n",
      "Epoch 5/10\n",
      "25000/25000 [==============================] - 3s 115us/sample - loss: 0.0767 - accuracy: 0.9756 - val_loss: 0.4265 - val_accuracy: 0.8644\n",
      "Epoch 6/10\n",
      "25000/25000 [==============================] - 3s 119us/sample - loss: 0.0433 - accuracy: 0.9892 - val_loss: 0.5208 - val_accuracy: 0.8602\n",
      "Epoch 7/10\n",
      "25000/25000 [==============================] - 3s 119us/sample - loss: 0.0238 - accuracy: 0.9954 - val_loss: 0.6088 - val_accuracy: 0.8594\n",
      "Epoch 8/10\n",
      "25000/25000 [==============================] - 3s 118us/sample - loss: 0.0117 - accuracy: 0.9982 - val_loss: 0.6828 - val_accuracy: 0.8570\n",
      "Epoch 9/10\n",
      "25000/25000 [==============================] - 3s 118us/sample - loss: 0.0053 - accuracy: 0.9996 - val_loss: 0.7712 - val_accuracy: 0.8564\n",
      "Epoch 10/10\n",
      "25000/25000 [==============================] - 3s 118us/sample - loss: 0.0025 - accuracy: 0.9999 - val_loss: 0.8228 - val_accuracy: 0.8562\n",
      "25000/1 - 1s - loss: 0.6790 - accuracy: 0.8562\n"
     ]
    },
    {
     "data": {
      "image/png": "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\n",
      "text/plain": [
       "<Figure size 432x288 with 1 Axes>"
      ]
     },
     "metadata": {
      "needs_background": "light"
     },
     "output_type": "display_data"
    },
    {
     "data": {
      "image/png": "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\n",
      "text/plain": [
       "<Figure size 432x288 with 1 Axes>"
      ]
     },
     "metadata": {
      "needs_background": "light"
     },
     "output_type": "display_data"
    },
    {
     "name": "stdout",
     "output_type": "stream",
     "text": [
      "Final test loss and accuracy : [0.822842117767334, 0.85624]\n"
     ]
    }
   ],
   "source": [
    "batch_size = 128\n",
    "model = keras.models.Sequential()\n",
    "model.add(keras.layers.Embedding(top_words, 32, input_length = max_review_length))\n",
    "model.add(keras.layers.Conv1D(filters=32, kernel_size=3, padding='same', activation='relu'))\n",
    "model.add(keras.layers.MaxPooling1D(pool_size=2))\n",
    "model.add(keras.layers.Flatten())\n",
    "model.add(keras.layers.Dense(20, activation='relu'))\n",
    "model.add(keras.layers.Dense(1, activation='sigmoid'))\n",
    "\n",
    "print(model.summary())\n",
    "\n",
    "model.compile(loss='binary_crossentropy', optimizer='adam', metrics=['accuracy'])\n",
    "\n",
    "history = model.fit(x_train, y_train, batch_size = batch_size, epochs = 10, validation_data = (x_test, y_test), verbose = 1)\n",
    "score = model.evaluate(x_test, y_test, batch_size = batch_size, verbose = 2)\n",
    "\n",
    "plotHistory(history)\n",
    "print(\"Final test loss and accuracy :\", score)"
   ]
  },
  {
   "cell_type": "markdown",
   "metadata": {},
   "source": [
    "## RNN"
   ]
  },
  {
   "cell_type": "code",
   "execution_count": 12,
   "metadata": {},
   "outputs": [
    {
     "name": "stdout",
     "output_type": "stream",
     "text": [
      "Model: \"sequential_2\"\n",
      "_________________________________________________________________\n",
      "Layer (type)                 Output Shape              Param #   \n",
      "=================================================================\n",
      "embedding_2 (Embedding)      (None, 250, 32)           320000    \n",
      "_________________________________________________________________\n",
      "simple_rnn (SimpleRNN)       (None, 80)                9040      \n",
      "_________________________________________________________________\n",
      "dense_4 (Dense)              (None, 1)                 81        \n",
      "=================================================================\n",
      "Total params: 329,121\n",
      "Trainable params: 329,121\n",
      "Non-trainable params: 0\n",
      "_________________________________________________________________\n",
      "None\n",
      "Train on 25000 samples, validate on 25000 samples\n",
      "Epoch 1/10\n",
      "25000/25000 [==============================] - 129s 5ms/sample - loss: 1.2768 - accuracy: 0.6110 - val_loss: 0.5255 - val_accuracy: 0.7672\n",
      "Epoch 2/10\n",
      "25000/25000 [==============================] - 133s 5ms/sample - loss: 0.4379 - accuracy: 0.8004 - val_loss: 0.3643 - val_accuracy: 0.8430\n",
      "Epoch 3/10\n",
      "25000/25000 [==============================] - 124s 5ms/sample - loss: 0.3051 - accuracy: 0.8717 - val_loss: 0.3227 - val_accuracy: 0.8613\n",
      "Epoch 4/10\n",
      "25000/25000 [==============================] - 124s 5ms/sample - loss: 0.2423 - accuracy: 0.9042 - val_loss: 0.3118 - val_accuracy: 0.8700\n",
      "Epoch 5/10\n",
      "25000/25000 [==============================] - 124s 5ms/sample - loss: 0.2040 - accuracy: 0.9213 - val_loss: 0.3806 - val_accuracy: 0.8530\n",
      "Epoch 6/10\n",
      "25000/25000 [==============================] - 131s 5ms/sample - loss: 0.2074 - accuracy: 0.9179 - val_loss: 0.4219 - val_accuracy: 0.8022\n",
      "Epoch 7/10\n",
      "25000/25000 [==============================] - 126s 5ms/sample - loss: 0.2172 - accuracy: 0.9142 - val_loss: 0.4155 - val_accuracy: 0.8611\n",
      "Epoch 8/10\n",
      "25000/25000 [==============================] - 126s 5ms/sample - loss: 0.1913 - accuracy: 0.9260 - val_loss: 0.4148 - val_accuracy: 0.8461\n",
      "Epoch 9/10\n",
      "25000/25000 [==============================] - 127s 5ms/sample - loss: 0.1527 - accuracy: 0.9432 - val_loss: 0.8121 - val_accuracy: 0.8358\n",
      "Epoch 10/10\n",
      "25000/25000 [==============================] - 130s 5ms/sample - loss: 0.1686 - accuracy: 0.9351 - val_loss: 0.4161 - val_accuracy: 0.8545\n",
      "25000/1 - 19s - loss: 0.4005 - accuracy: 0.8545\n"
     ]
    },
    {
     "data": {
      "image/png": "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\n",
      "text/plain": [
       "<Figure size 432x288 with 1 Axes>"
      ]
     },
     "metadata": {
      "needs_background": "light"
     },
     "output_type": "display_data"
    },
    {
     "data": {
      "image/png": "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\n",
      "text/plain": [
       "<Figure size 432x288 with 1 Axes>"
      ]
     },
     "metadata": {
      "needs_background": "light"
     },
     "output_type": "display_data"
    },
    {
     "name": "stdout",
     "output_type": "stream",
     "text": [
      "Final test loss and accuracy : [0.41607590196609495, 0.85448]\n"
     ]
    }
   ],
   "source": [
    "batch_size = 32\n",
    "model = keras.models.Sequential()\n",
    "model.add(keras.layers.Embedding(top_words, output_dim = 32, input_length = max_review_length))\n",
    "model.add(keras.layers.SimpleRNN(80, activation='relu', dropout = 0.5))\n",
    "model.add(keras.layers.Dense(1, activation = 'sigmoid'))\n",
    "\n",
    "print(model.summary())\n",
    "\n",
    "model.compile(loss='binary_crossentropy', optimizer='adam', metrics=['accuracy'])\n",
    "\n",
    "history = model.fit(x_train, y_train, batch_size = batch_size, epochs = 10, validation_data = (x_test, y_test), verbose = 1)\n",
    "score = model.evaluate(x_test, y_test, batch_size = batch_size, verbose = 2)\n",
    "\n",
    "plotHistory(history)\n",
    "print(\"Final test loss and accuracy :\", score)"
   ]
  },
  {
   "cell_type": "markdown",
   "metadata": {},
   "source": [
    "## LSTM"
   ]
  },
  {
   "cell_type": "code",
   "execution_count": null,
   "metadata": {},
   "outputs": [
    {
     "name": "stdout",
     "output_type": "stream",
     "text": [
      "Model: \"sequential_3\"\n",
      "_________________________________________________________________\n",
      "Layer (type)                 Output Shape              Param #   \n",
      "=================================================================\n",
      "embedding_3 (Embedding)      (None, 250, 32)           320000    \n",
      "_________________________________________________________________\n",
      "lstm (LSTM)                  (None, 40)                11680     \n",
      "_________________________________________________________________\n",
      "dense_5 (Dense)              (None, 1)                 41        \n",
      "=================================================================\n",
      "Total params: 331,721\n",
      "Trainable params: 331,721\n",
      "Non-trainable params: 0\n",
      "_________________________________________________________________\n",
      "None\n",
      "Train on 25000 samples, validate on 25000 samples\n",
      "Epoch 1/10\n",
      "25000/25000 [==============================] - 312s 12ms/sample - loss: 0.4914 - accuracy: 0.7659 - val_loss: 0.3945 - val_accuracy: 0.8359\n",
      "Epoch 2/10\n",
      "25000/25000 [==============================] - 319s 13ms/sample - loss: 0.3631 - accuracy: 0.8479 - val_loss: 0.3719 - val_accuracy: 0.8423\n",
      "Epoch 3/10\n",
      " 8000/25000 [========>.....................] - ETA: 2:32 - loss: 0.3087 - accuracy: 0.8752"
     ]
    }
   ],
   "source": [
    "batch_size = 32\n",
    "model = keras.models.Sequential()\n",
    "model.add(keras.layers.Embedding(top_words, output_dim = 32, input_length=max_review_length))\n",
    "model.add(keras.layers.LSTM(40, dropout=0.2, recurrent_dropout=0.2))\n",
    "model.add(keras.layers.Dense(1, activation = 'sigmoid'))\n",
    "\n",
    "print(model.summary())\n",
    "\n",
    "model.compile(loss = 'binary_crossentropy', optimizer = 'adam', metrics = ['accuracy'])\n",
    "\n",
    "history = model.fit(x_train, y_train, batch_size = batch_size, epochs = 10, validation_data = (x_test, y_test), verbose = 1)\n",
    "score = model.evaluate(x_test, y_test, batch_size = batch_size, verbose = 2)\n",
    "\n",
    "plotHistory(history)\n",
    "print(\"Final test loss and accuracy :\", score)"
   ]
  },
  {
   "cell_type": "markdown",
   "metadata": {},
   "source": [
    "## Bidirectional LSTM"
   ]
  },
  {
   "cell_type": "code",
   "execution_count": null,
   "metadata": {},
   "outputs": [],
   "source": [
    "batch_size = 32\n",
    "model = keras.models.Sequential()\n",
    "model.add(keras.layers.Embedding(top_words, output_dim = 128, input_length=max_review_length))\n",
    "model.add(keras.layers.Bidirectional(keras.layers.LSTM(20, dropout=0.2, recurrent_dropout=0.2)))\n",
    "model.add(keras.layers.Dense(1, activation = 'sigmoid'))\n",
    "\n",
    "print(model.summary())\n",
    "\n",
    "model.compile(loss = 'binary_crossentropy', optimizer = 'adam', metrics = ['accuracy'])\n",
    "\n",
    "history = model.fit(x_train, y_train, batch_size = batch_size, epochs = 10, validation_data = (x_test, y_test), verbose = 1)\n",
    "score = model.evaluate(x_test, y_test, batch_size = batch_size, verbose = 2)\n",
    "\n",
    "plotHistory(history)\n",
    "print(\"Final test loss and accuracy :\", score)"
   ]
  },
  {
   "cell_type": "markdown",
   "metadata": {},
   "source": [
    "## Small LSTM"
   ]
  },
  {
   "cell_type": "code",
   "execution_count": null,
   "metadata": {},
   "outputs": [],
   "source": [
    "batch_size = 32\n",
    "model = keras.models.Sequential()\n",
    "model.add(keras.layers.Embedding(top_words, output_dim = 128, input_length=max_review_length))\n",
    "model.add(keras.layers.LSTM(4, dropout=0.2, recurrent_dropout=0.2))\n",
    "model.add(keras.layers.Dense(1, activation = 'sigmoid'))\n",
    "\n",
    "print(model.summary())\n",
    "\n",
    "model.compile(loss = 'binary_crossentropy', optimizer = 'adam', metrics = ['accuracy'])\n",
    "\n",
    "history = model.fit(x_train, y_train, batch_size = batch_size, epochs = 10, validation_data = (x_test, y_test), verbose = 1)\n",
    "score = model.evaluate(x_test, y_test, batch_size = batch_size, verbose = 2)\n",
    "\n",
    "plotHistory(history)\n",
    "print(\"Final test loss and accuracy :\", score)"
   ]
  },
  {
   "cell_type": "code",
   "execution_count": null,
   "metadata": {},
   "outputs": [],
   "source": [
    "from termcolor import colored\n",
    "\n",
    "# Reload Dataset with complete text\n",
    "(X_train_plot, y_train), (X_test_plot, y_test) = keras.datasets.imdb.load_data()\n",
    "\n",
    "def plotReviewDB(test_or_train, review_id):\n",
    "    word_to_id = keras.datasets.imdb.get_word_index()\n",
    "    word_to_id = {k:(v+3) for k,v in word_to_id.items()}\n",
    "    word_to_id[\"<padded>\"] = 0\n",
    "    word_to_id[\"<start>\"] = 1\n",
    "    word_to_id[\"<unknown>\"] = 2\n",
    "\n",
    "    sentiment = 0\n",
    "    id_to_word = {value:key for key,value in word_to_id.items()}\n",
    "    if test_or_train is 'train':\n",
    "        print(' '.join(id_to_word[id] for id in X_train_plot[review_id] ))\n",
    "        sentiment = y_train[review_id]\n",
    "    else:\n",
    "        print(' '.join(id_to_word[id] for id in X_test_plot[review_id] ))\n",
    "        sentiment = y_test[review_id]\n",
    "    if sentiment == 0:\n",
    "        print(colored('Review is labelled as Negative', 'red'))\n",
    "    if sentiment == 1:\n",
    "        print(colored('Review is labelled as Positive', 'green'))\n",
    "        \n",
    "def predictSentimentLSTM(model, review_id):\n",
    "    prediction = model.predict(x_test[review_id].reshape([1,max_review_length]), batch_size = batch_size, verbose = 2)\n",
    "    if prediction == 0:\n",
    "        print(colored('Review predicted to be Negative', 'red'))\n",
    "    else:\n",
    "        print(colored('Review predicted to be Positive', 'green'))\n",
    "    print('Groundtruth:')\n",
    "    plotReviewDB('test', review_id)"
   ]
  },
  {
   "cell_type": "code",
   "execution_count": null,
   "metadata": {},
   "outputs": [],
   "source": [
    "predictSentimentLSTM(model,1)"
   ]
  },
  {
   "cell_type": "markdown",
   "metadata": {},
   "source": [
    "## Ähnliche Netze \n",
    "Analyse der Wertung - Cloudimplementierung: https://app.monkeylearn.com/main/classifiers/cl_pi3C7JiL/"
   ]
  },
  {
   "cell_type": "markdown",
   "metadata": {},
   "source": [
    "## Quellen\n",
    "Allgemeine Einführung: https://towardsdatascience.com/deep-learning-for-sentiment-analysis-7da8006bf6c1 <br>\n",
    "LSTMs: https://colah.github.io/posts/2015-08-Understanding-LSTMs/ <br>\n",
    "Netflix-Reviews Klassifikator: https://towardsdatascience.com/sentiment-analysis-with-deep-learning-62d4d0166ef6 <br>\n",
    "... dazugehöriger GitHub-Code: https://github.com/artem-oppermann/Sentiment-Analysis-of-Netflix-Reviews\n"
   ]
  }
 ],
 "metadata": {
  "kernelspec": {
   "display_name": "Python 3",
   "language": "python",
   "name": "python3"
  },
  "language_info": {
   "codemirror_mode": {
    "name": "ipython",
    "version": 3
   },
   "file_extension": ".py",
   "mimetype": "text/x-python",
   "name": "python",
   "nbconvert_exporter": "python",
   "pygments_lexer": "ipython3",
   "version": "3.7.4"
  }
 },
 "nbformat": 4,
 "nbformat_minor": 2
}
l Networks (RNNs)\n",
    "Besondere Architektur für **sequentielle Daten** wie Texte.\n",
    "Klassische neuronale Netze arbeiten Buchstaben für Buchstaben eines Textes ab, sehen keinen Zusammenhang. <br><br>\n",
    "**Idee:** Ausgang des Netzes abhängig vom **aktuellen und den vorherigen Buchstaben**. Die Berechnung der Vorherigen wiederholt sich damit - *recurrent*. Bildlich gesprochen haben RNNs ein Kurzzeitgedächtnis.<br><br>\n",
    "**Problem:** Betrachtbare Sequenz zwar theoretisch unendlich lange, praktisch jedoch **hohe Rechenleistung für Wiederholungen** erforderlich."
   ]
  },
  {
   "cell_type": "markdown",
   "metadata": {},
   "source": [
    "## Long Short-Term Memory networks (LSTMs)\n",
    "**Lösung:** \"Kurzes\" Kurzzeitgedächtnis des RNNs soll zu einem **\"langen Kurzzeitgedächtnis\"** ausgebaut werden.<br>\n",
    " <br> **Idee:** Komplexere Architektur mit **Zellen, die Bedeutung einzelner, längerer Sequenzen speichern** und zusammenfügen soll. Einzelne Informationen können vergessen, in Kontext zu anderen Informationen gebracht oder durch neue Informationen ergänzt werden (durch Forget, Output und Input Gates)"
   ]
  },
  {
   "cell_type": "code",
   "execution_count": 1,
   "metadata": {},
   "outputs": [],
   "source": [
    "import os\n",
    "import tensorflow as tf\n",
    "import numpy as np\n",
    "import matplotlib.pyplot as plt\n",
    "from tensorflow import keras"
   ]
  },
  {
   "cell_type": "code",
   "execution_count": 2,
   "metadata": {},
   "outputs": [],
   "source": [
    "os.environ['TF_CPP_MIN_LOG_LEVEL'] = '2'\n",
    "assert tf.__version__.startswith('2.')\n",
    "#tf.debugging.set_log_device_placement(True)\n",
    "\n",
    "# fix random seed for reproducibility\n",
    "tf.random.set_seed(22)\n",
    "np.random.seed(7)"
   ]
  },
  {
   "cell_type": "code",
   "execution_count": 3,
   "metadata": {},
   "outputs": [],
   "source": [
    "def plotHistory(history):\n",
    "    # Plot training & validation accuracy values\n",
    "    plt.plot(history.history['accuracy'])\n",
    "    plt.plot(history.history['val_accuracy'])\n",
    "    plt.title('Model accuracy')\n",
    "    plt.ylabel('Accuracy')\n",
    "    plt.xlabel('Epoch')\n",
    "    plt.legend(['Train', 'Validation'], loc='upper left')\n",
    "    plt.show()\n",
    "\n",
    "    # Plot training & validation loss values\n",
    "    plt.plot(history.history['loss'])\n",
    "    plt.plot(history.history['val_loss'])\n",
    "    plt.title('Model loss')\n",
    "    plt.ylabel('Loss')\n",
    "    plt.xlabel('Epoch')\n",
    "    plt.legend(['Train', 'Validation'], loc='upper left')\n",
    "    plt.show()"
   ]
  },
  {
   "cell_type": "code",
   "execution_count": 4,
   "metadata": {},
   "outputs": [
    {
     "name": "stdout",
     "output_type": "stream",
     "text": [
      "Number of different words in Training Data: 19998\n",
      "Number of different words in Testing Data: 19490\n"
     ]
    }
   ],
   "source": [
    "# only keep the top n most used words, zero the rest\n",
    "top_words = 20000\n",
    "# load the dataset\n",
    "(X_train, y_train), (X_test, y_test) = keras.datasets.imdb.load_data(num_words=top_words)\n",
    "print(\"Number of different words in Training Data:\", len(np.unique(np.hstack(X_train))))\n",
    "print(\"Number of different words in Testing Data:\", len(np.unique(np.hstack(X_test))))"
   ]
  },
  {
   "cell_type": "code",
   "execution_count": 5,
   "metadata": {},
   "outputs": [
    {
     "name": "stdout",
     "output_type": "stream",
     "text": [
      "X_train: [list([1, 14, 22, 16, 43, 530, 973, 1622, 1385, 65, 458, 4468, 66, 3941, 4, 173, 36, 256, 5, 25, 100, 43, 838, 112, 50, 670, 2, 9, 35, 480, 284, 5, 150, 4, 172, 112, 167, 2, 336, 385, 39, 4, 172, 4536, 1111, 17, 546, 38, 13, 447, 4, 192, 50, 16, 6, 147, 2025, 19, 14, 22, 4, 1920, 4613, 469, 4, 22, 71, 87, 12, 16, 43, 530, 38, 76, 15, 13, 1247, 4, 22, 17, 515, 17, 12, 16, 626, 18, 19193, 5, 62, 386, 12, 8, 316, 8, 106, 5, 4, 2223, 5244, 16, 480, 66, 3785, 33, 4, 130, 12, 16, 38, 619, 5, 25, 124, 51, 36, 135, 48, 25, 1415, 33, 6, 22, 12, 215, 28, 77, 52, 5, 14, 407, 16, 82, 10311, 8, 4, 107, 117, 5952, 15, 256, 4, 2, 7, 3766, 5, 723, 36, 71, 43, 530, 476, 26, 400, 317, 46, 7, 4, 12118, 1029, 13, 104, 88, 4, 381, 15, 297, 98, 32, 2071, 56, 26, 141, 6, 194, 7486, 18, 4, 226, 22, 21, 134, 476, 26, 480, 5, 144, 30, 5535, 18, 51, 36, 28, 224, 92, 25, 104, 4, 226, 65, 16, 38, 1334, 88, 12, 16, 283, 5, 16, 4472, 113, 103, 32, 15, 16, 5345, 19, 178, 32])\n",
      " list([1, 194, 1153, 194, 8255, 78, 228, 5, 6, 1463, 4369, 5012, 134, 26, 4, 715, 8, 118, 1634, 14, 394, 20, 13, 119, 954, 189, 102, 5, 207, 110, 3103, 21, 14, 69, 188, 8, 30, 23, 7, 4, 249, 126, 93, 4, 114, 9, 2300, 1523, 5, 647, 4, 116, 9, 35, 8163, 4, 229, 9, 340, 1322, 4, 118, 9, 4, 130, 4901, 19, 4, 1002, 5, 89, 29, 952, 46, 37, 4, 455, 9, 45, 43, 38, 1543, 1905, 398, 4, 1649, 26, 6853, 5, 163, 11, 3215, 10156, 4, 1153, 9, 194, 775, 7, 8255, 11596, 349, 2637, 148, 605, 15358, 8003, 15, 123, 125, 68, 2, 6853, 15, 349, 165, 4362, 98, 5, 4, 228, 9, 43, 2, 1157, 15, 299, 120, 5, 120, 174, 11, 220, 175, 136, 50, 9, 4373, 228, 8255, 5, 2, 656, 245, 2350, 5, 4, 9837, 131, 152, 491, 18, 2, 32, 7464, 1212, 14, 9, 6, 371, 78, 22, 625, 64, 1382, 9, 8, 168, 145, 23, 4, 1690, 15, 16, 4, 1355, 5, 28, 6, 52, 154, 462, 33, 89, 78, 285, 16, 145, 95])\n",
      " list([1, 14, 47, 8, 30, 31, 7, 4, 249, 108, 7, 4, 5974, 54, 61, 369, 13, 71, 149, 14, 22, 112, 4, 2401, 311, 12, 16, 3711, 33, 75, 43, 1829, 296, 4, 86, 320, 35, 534, 19, 263, 4821, 1301, 4, 1873, 33, 89, 78, 12, 66, 16, 4, 360, 7, 4, 58, 316, 334, 11, 4, 1716, 43, 645, 662, 8, 257, 85, 1200, 42, 1228, 2578, 83, 68, 3912, 15, 36, 165, 1539, 278, 36, 69, 2, 780, 8, 106, 14, 6905, 1338, 18, 6, 22, 12, 215, 28, 610, 40, 6, 87, 326, 23, 2300, 21, 23, 22, 12, 272, 40, 57, 31, 11, 4, 22, 47, 6, 2307, 51, 9, 170, 23, 595, 116, 595, 1352, 13, 191, 79, 638, 89, 2, 14, 9, 8, 106, 607, 624, 35, 534, 6, 227, 7, 129, 113])] ...\n",
      "y_train: [1 0 0] ...\n"
     ]
    }
   ],
   "source": [
    "print('X_train:', X_train[0:3], '...')\n",
    "print('y_train:', y_train[0:3], '...')"
   ]
  },
  {
   "cell_type": "code",
   "execution_count": 6,
   "metadata": {},
   "outputs": [
    {
     "name": "stdout",
     "output_type": "stream",
     "text": [
      "Review length: \n",
      "Mean 238.71 words (176.493674)\n"
     ]
    },
    {
     "data": {
      "image/png": "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\n",
      "text/plain": [
       "<Figure size 432x288 with 1 Axes>"
      ]
     },
     "metadata": {
      "needs_background": "light"
     },
     "output_type": "display_data"
    },
    {
     "name": "stdout",
     "output_type": "stream",
     "text": [
      "Maximum length num words of review in training data: 2494\n",
      "Maximum length num words of review in testing data: 2315\n"
     ]
    }
   ],
   "source": [
    "# Summarize review length\n",
    "print(\"Review length: \")\n",
    "result = [len(x) for x in X_train]\n",
    "print(\"Mean %.2f words (%f)\" % (np.mean(result), np.std(result)))\n",
    "# plot review length\n",
    "plt.boxplot(result)\n",
    "plt.show()\n",
    "print(\"Maximum word length training data:\", (max([len(sequence) for sequence in X_train])))\n",
    "print(\"Maximum word length testing data:\", (max([len(sequence) for sequence in X_test])))"
   ]
  },
  {
   "cell_type": "code",
   "execution_count": 7,
   "metadata": {},
   "outputs": [
    {
     "name": "stdout",
     "output_type": "stream",
     "text": [
      "Before padding:  218 - 189 - 141\n",
      "After padding:  1000 - 1000 - 1000\n"
     ]
    }
   ],
   "source": [
    "# maximal number of words in one review - truncate and pad input sequences accordingly\n",
    "max_review_length = 1000\n",
    "print('Before padding: ', len(X_train[0]), '-', len(X_train[1]), '-', len(X_train[2]))\n",
    "x_train = keras.preprocessing.sequence.pad_sequences(X_train, maxlen=max_review_length)\n",
    "x_test = keras.preprocessing.sequence.pad_sequences(X_test, maxlen=max_review_length)\n",
    "print('After padding: ', len(x_train[0]), '-', len(x_train[1]), '-', len(x_train[2]))"
   ]
  },
  {
   "cell_type": "code",
   "execution_count": 8,
   "metadata": {},
   "outputs": [
    {
     "name": "stdout",
     "output_type": "stream",
     "text": [
      "x_train shape: (25000, 1000)\n",
      "y_train shape: (25000,)\n",
      "x_test shape: (25000, 1000)\n",
      "y_test shape: (25000,)\n"
     ]
    }
   ],
   "source": [
    "print('x_train shape:', x_train.shape)\n",
    "print('y_train shape:', y_train.shape)\n",
    "print('x_test shape:', x_test.shape)\n",
    "print('y_test shape:', y_test.shape)"
   ]
  },
  {
   "cell_type": "code",
   "execution_count": 9,
   "metadata": {},
   "outputs": [
    {
     "name": "stdout",
     "output_type": "stream",
     "text": [
      "Total number of words in Training Data: 25000000\n"
     ]
    },
    {
     "data": {
      "image/png": "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\n",
      "text/plain": [
       "<Figure size 432x288 with 1 Axes>"
      ]
     },
     "metadata": {
      "needs_background": "light"
     },
     "output_type": "display_data"
    }
   ],
   "source": [
    "print(\"Total number of words in Training Data:\", len(np.hstack(x_train)))\n",
    "bins = 50\n",
    "x = np.arange(bins)\n",
    "hist, bin_edges = np.histogram(x_train, bins)\n",
    "plt.xlim([0,bins])\n",
    "plt.xlabel('Bins with each %i different Words' %(top_words/bins))\n",
    "plt.ylabel('Number of Words in each Bin')\n",
    "plt.bar(x, hist, align='edge')\n",
    "plt.show()"
   ]
  },
  {
   "cell_type": "markdown",
   "metadata": {},
   "source": [
    "## MLP"
   ]
  },
  {
   "cell_type": "code",
   "execution_count": 10,
   "metadata": {},
   "outputs": [
    {
     "name": "stdout",
     "output_type": "stream",
     "text": [
      "Model: \"sequential\"\n",
      "_________________________________________________________________\n",
      "Layer (type)                 Output Shape              Param #   \n",
      "=================================================================\n",
      "embedding (Embedding)        (None, 1000, 32)          640000    \n",
      "_________________________________________________________________\n",
      "flatten (Flatten)            (None, 32000)             0         \n",
      "_________________________________________________________________\n",
      "dropout (Dropout)            (None, 32000)             0         \n",
      "_________________________________________________________________\n",
      "dense (Dense)                (None, 10)                320010    \n",
      "_________________________________________________________________\n",
      "dropout_1 (Dropout)          (None, 10)                0         \n",
      "_________________________________________________________________\n",
      "dense_1 (Dense)              (None, 1)                 11        \n",
      "=================================================================\n",
      "Total params: 960,021\n",
      "Trainable params: 960,021\n",
      "Non-trainable params: 0\n",
      "_________________________________________________________________\n",
      "None\n",
      "Train on 25000 samples, validate on 25000 samples\n",
      "Epoch 1/10\n",
      "25000/25000 [==============================] - 9s 340us/sample - loss: 0.6939 - accuracy: 0.4996 - val_loss: 0.6931 - val_accuracy: 0.4998\n",
      "Epoch 2/10\n",
      "25000/25000 [==============================] - 7s 277us/sample - loss: 0.6659 - accuracy: 0.5588 - val_loss: 0.4768 - val_accuracy: 0.8064\n",
      "Epoch 3/10\n",
      "25000/25000 [==============================] - 7s 277us/sample - loss: 0.3580 - accuracy: 0.8619 - val_loss: 0.2890 - val_accuracy: 0.8821\n",
      "Epoch 4/10\n",
      "25000/25000 [==============================] - 7s 277us/sample - loss: 0.2205 - accuracy: 0.9286 - val_loss: 0.2938 - val_accuracy: 0.8828\n",
      "Epoch 5/10\n",
      "25000/25000 [==============================] - 7s 276us/sample - loss: 0.1543 - accuracy: 0.9562 - val_loss: 0.2995 - val_accuracy: 0.8851\n",
      "Epoch 6/10\n",
      "25000/25000 [==============================] - 7s 280us/sample - loss: 0.1131 - accuracy: 0.9698 - val_loss: 0.3299 - val_accuracy: 0.8834\n",
      "Epoch 7/10\n",
      "25000/25000 [==============================] - 7s 279us/sample - loss: 0.0888 - accuracy: 0.9787 - val_loss: 0.3692 - val_accuracy: 0.8814\n",
      "Epoch 8/10\n",
      "25000/25000 [==============================] - 7s 279us/sample - loss: 0.0765 - accuracy: 0.9820 - val_loss: 0.3678 - val_accuracy: 0.8793\n",
      "Epoch 9/10\n",
      "25000/25000 [==============================] - 7s 279us/sample - loss: 0.0626 - accuracy: 0.9863 - val_loss: 0.4207 - val_accuracy: 0.8790\n",
      "Epoch 10/10\n",
      "25000/25000 [==============================] - 7s 279us/sample - loss: 0.0568 - accuracy: 0.9875 - val_loss: 0.4425 - val_accuracy: 0.8766\n",
      "25000/1 - 1s - loss: 0.4329 - accuracy: 0.8766\n"
     ]
    },
    {
     "data": {
      "image/png": "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\n",
      "text/plain": [
       "<Figure size 432x288 with 1 Axes>"
      ]
     },
     "metadata": {
      "needs_background": "light"
     },
     "output_type": "display_data"
    },
    {
     "data": {
      "image/png": "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\n",
      "text/plain": [
       "<Figure size 432x288 with 1 Axes>"
      ]
     },
     "metadata": {
      "needs_background": "light"
     },
     "output_type": "display_data"
    },
    {
     "name": "stdout",
     "output_type": "stream",
     "text": [
      "Final test loss and accuracy : [0.4424912354850769, 0.8766]\n"
     ]
    }
   ],
   "source": [
    "batch_size = 128\n",
    "model = keras.models.Sequential()\n",
    "model.add(keras.layers.Embedding(top_words, 32, input_length=max_review_length))\n",
    "model.add(keras.layers.Flatten())\n",
    "model.add(keras.layers.Dropout(0.5))\n",
    "model.add(keras.layers.Dense(10, activation='relu'))\n",
    "model.add(keras.layers.Dropout(0.5))\n",
    "model.add(keras.layers.Dense(1, activation='sigmoid'))\n",
    "\n",
    "print(model.summary())\n",
    "\n",
    "model.compile(loss='binary_crossentropy', optimizer='adam', metrics=['accuracy'])\n",
    "\n",
    "history = model.fit(x_train, y_train, batch_size = batch_size, epochs = 10, validation_data = (x_test, y_test), verbose = 1)\n",
    "score = model.evaluate(x_test, y_test, batch_size = batch_size, verbose = 2)\n",
    "\n",
    "plotHistory(history)\n",
    "print(\"Final test loss and accuracy :\", score)"
   ]
  },
  {
   "cell_type": "markdown",
   "metadata": {},
   "source": [
    "## CNN"
   ]
  },
  {
   "cell_type": "code",
   "execution_count": 11,
   "metadata": {},
   "outputs": [
    {
     "name": "stdout",
     "output_type": "stream",
     "text": [
      "Model: \"sequential_1\"\n",
      "_________________________________________________________________\n",
      "Layer (type)                 Output Shape              Param #   \n",
      "=================================================================\n",
      "embedding_1 (Embedding)      (None, 1000, 32)          640000    \n",
      "_________________________________________________________________\n",
      "conv1d (Conv1D)              (None, 1000, 32)          3104      \n",
      "_________________________________________________________________\n",
      "max_pooling1d (MaxPooling1D) (None, 500, 32)           0         \n",
      "_________________________________________________________________\n",
      "flatten_1 (Flatten)          (None, 16000)             0         \n",
      "_________________________________________________________________\n",
      "dense_2 (Dense)              (None, 20)                320020    \n",
      "_________________________________________________________________\n",
      "dense_3 (Dense)              (None, 1)                 21        \n",
      "=================================================================\n",
      "Total params: 963,145\n",
      "Trainable params: 963,145\n",
      "Non-trainable params: 0\n",
      "_________________________________________________________________\n",
      "None\n",
      "Train on 25000 samples, validate on 25000 samples\n",
      "Epoch 1/10\n",
      "25000/25000 [==============================] - 9s 364us/sample - loss: 0.4664 - accuracy: 0.7490 - val_loss: 0.2814 - val_accuracy: 0.8830\n",
      "Epoch 2/10\n",
      "25000/25000 [==============================] - 7s 289us/sample - loss: 0.1876 - accuracy: 0.9267 - val_loss: 0.2849 - val_accuracy: 0.8849\n",
      "Epoch 3/10\n",
      "25000/25000 [==============================] - 7s 294us/sample - loss: 0.1044 - accuracy: 0.9647 - val_loss: 0.3316 - val_accuracy: 0.8764\n",
      "Epoch 4/10\n",
      "25000/25000 [==============================] - 7s 290us/sample - loss: 0.0583 - accuracy: 0.9826 - val_loss: 0.4219 - val_accuracy: 0.8687\n",
      "Epoch 5/10\n",
      "25000/25000 [==============================] - 8s 302us/sample - loss: 0.0313 - accuracy: 0.9924 - val_loss: 0.4977 - val_accuracy: 0.8654\n",
      "Epoch 6/10\n",
      "25000/25000 [==============================] - 7s 291us/sample - loss: 0.0153 - accuracy: 0.9971 - val_loss: 0.5968 - val_accuracy: 0.8623\n",
      "Epoch 7/10\n",
      "25000/25000 [==============================] - 7s 290us/sample - loss: 0.0065 - accuracy: 0.9991 - val_loss: 0.6645 - val_accuracy: 0.8619\n",
      "Epoch 8/10\n",
      "25000/25000 [==============================] - 7s 289us/sample - loss: 0.0024 - accuracy: 0.9999 - val_loss: 0.7428 - val_accuracy: 0.8625\n",
      "Epoch 9/10\n",
      "25000/25000 [==============================] - 7s 288us/sample - loss: 8.9740e-04 - accuracy: 1.0000 - val_loss: 0.8033 - val_accuracy: 0.8620\n",
      "Epoch 10/10\n",
      "25000/25000 [==============================] - 7s 289us/sample - loss: 4.6267e-04 - accuracy: 1.0000 - val_loss: 0.8468 - val_accuracy: 0.8618\n",
      "25000/1 - 2s - loss: 0.7676 - accuracy: 0.8618\n"
     ]
    },
    {
     "data": {
      "image/png": "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\n",
      "text/plain": [
       "<Figure size 432x288 with 1 Axes>"
      ]
     },
     "metadata": {
      "needs_background": "light"
     },
     "output_type": "display_data"
    },
    {
     "data": {
      "image/png": "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\n",
      "text/plain": [
       "<Figure size 432x288 with 1 Axes>"
      ]
     },
     "metadata": {
      "needs_background": "light"
     },
     "output_type": "display_data"
    },
    {
     "name": "stdout",
     "output_type": "stream",
     "text": [
      "Final test loss and accuracy : [0.8467501047897339, 0.86176]\n"
     ]
    }
   ],
   "source": [
    "batch_size = 128\n",
    "model = keras.models.Sequential()\n",
    "model.add(keras.layers.Embedding(top_words, 32, input_length = max_review_length))\n",
    "model.add(keras.layers.Conv1D(filters=32, kernel_size=3, padding='same', activation='relu'))\n",
    "model.add(keras.layers.MaxPooling1D(pool_size=2))\n",
    "model.add(keras.layers.Flatten())\n",
    "model.add(keras.layers.Dense(20, activation='relu'))\n",
    "model.add(keras.layers.Dense(1, activation='sigmoid'))\n",
    "\n",
    "print(model.summary())\n",
    "\n",
    "model.compile(loss='binary_crossentropy', optimizer='adam', metrics=['accuracy'])\n",
    "\n",
    "history = model.fit(x_train, y_train, batch_size = batch_size, epochs = 10, validation_data = (x_test, y_test), verbose = 1)\n",
    "score = model.evaluate(x_test, y_test, batch_size = batch_size, verbose = 2)\n",
    "\n",
    "plotHistory(history)\n",
    "print(\"Final test loss and accuracy :\", score)"
   ]
  },
  {
   "cell_type": "markdown",
   "metadata": {},
   "source": [
    "## RNN"
   ]
  },
  {
   "cell_type": "code",
   "execution_count": null,
   "metadata": {},
   "outputs": [
    {
     "name": "stdout",
     "output_type": "stream",
     "text": [
      "Model: \"sequential_2\"\n",
      "_________________________________________________________________\n",
      "Layer (type)                 Output Shape              Param #   \n",
      "=================================================================\n",
      "embedding_2 (Embedding)      (None, 1000, 32)          640000    \n",
      "_________________________________________________________________\n",
      "simple_rnn (SimpleRNN)       (None, 80)                9040      \n",
      "_________________________________________________________________\n",
      "dense_4 (Dense)              (None, 1)                 81        \n",
      "=================================================================\n",
      "Total params: 649,121\n",
      "Trainable params: 649,121\n",
      "Non-trainable params: 0\n",
      "_________________________________________________________________\n",
      "None\n",
      "Train on 25000 samples, validate on 25000 samples\n",
      "Epoch 1/10\n",
      "25000/25000 [==============================] - 539s 22ms/sample - loss: 1373634.5950 - accuracy: 0.6250 - val_loss: 0.4324 - val_accuracy: 0.7991\n",
      "Epoch 2/10\n",
      "21376/25000 [========================>.....] - ETA: 1:08 - loss: 0.3643 - accuracy: 0.8414"
     ]
    }
   ],
   "source": [
    "batch_size = 32\n",
    "model = keras.models.Sequential()\n",
    "model.add(keras.layers.Embedding(top_words, output_dim = 32, input_length = max_review_length))\n",
    "model.add(keras.layers.SimpleRNN(80, activation='relu', dropout = 0.5))\n",
    "model.add(keras.layers.Dense(1, activation = 'sigmoid'))\n",
    "\n",
    "print(model.summary())\n",
    "\n",
    "model.compile(loss='binary_crossentropy', optimizer='adam', metrics=['accuracy'])\n",
    "\n",
    "history = model.fit(x_train, y_train, batch_size = batch_size, epochs = 10, validation_data = (x_test, y_test), verbose = 1)\n",
    "score = model.evaluate(x_test, y_test, batch_size = batch_size, verbose = 2)\n",
    "\n",
    "plotHistory(history)\n",
    "print(\"Final test loss and accuracy :\", score)"
   ]
  },
  {
   "cell_type": "markdown",
   "metadata": {},
   "source": [
    "## LSTM"
   ]
  },
  {
   "cell_type": "code",
   "execution_count": null,
   "metadata": {},
   "outputs": [],
   "source": [
    "batch_size = 32\n",
    "model = keras.models.Sequential()\n",
    "model.add(keras.layers.Embedding(top_words, output_dim = 32, input_length=max_review_length))\n",
    "model.add(keras.layers.LSTM(40, dropout=0.2, recurrent_dropout=0.2))\n",
    "model.add(keras.layers.Dense(1, activation = 'sigmoid'))\n",
    "\n",
    "print(model.summary())\n",
    "\n",
    "model.compile(loss = 'binary_crossentropy', optimizer = 'adam', metrics = ['accuracy'])\n",
    "\n",
    "history = model.fit(x_train, y_train, batch_size = batch_size, epochs = 10, validation_data = (x_test, y_test), verbose = 1)\n",
    "score = model.evaluate(x_test, y_test, batch_size = batch_size, verbose = 2)\n",
    "\n",
    "plotHistory(history)\n",
    "print(\"Final test loss and accuracy :\", score)"
   ]
  },
  {
   "cell_type": "markdown",
   "metadata": {},
   "source": [
    "## Bidirectional LSTM"
   ]
  },
  {
   "cell_type": "code",
   "execution_count": null,
   "metadata": {},
   "outputs": [],
   "source": [
    "batch_size = 32\n",
    "model = keras.models.Sequential()\n",
    "model.add(keras.layers.Embedding(top_words, output_dim = 128, input_length=max_review_length))\n",
    "model.add(keras.layers.Bidirectional(keras.layers.LSTM(20, dropout=0.2, recurrent_dropout=0.2)))\n",
    "model.add(keras.layers.Dense(1, activation = 'sigmoid'))\n",
    "\n",
    "print(model.summary())\n",
    "\n",
    "model.compile(loss = 'binary_crossentropy', optimizer = 'adam', metrics = ['accuracy'])\n",
    "\n",
    "history = model.fit(x{
 "cells": [
  {
   "cell_type": "markdown",
   "metadata": {},
   "source": [
    "# Sentiment Analysis\n",
    "Die **\"Stimmungsanalyse\"** gehört zu den **Natural Language Processing (NLP)** Modellen.<br>\n",
    "Meist ermöglicht die Sentiment Analysis eine Klassifizierung von wenigen Sätzen anhand einer der folgenden Kriterien: \n",
    "* **Wertung:** Negativ, Neutral, Positiv\n",
    "* **Themengebiet**, über das geschrieben wird\n",
    "* **Informationen zur Person** hinter der Meinung <br>\n",
    "\n",
    "**Idee:** Viele Daten auf die **wesentlichen Informationen** (den Nutzen) herunterbrechen, z.B. bei Marktanalysen, Produktrezensionen oder Kundenservices."
   ]
  },
  {
   "cell_type": "markdown",
   "metadata": {},
   "source": [
    "## Recurrent Neural Networks (RNNs)\n",
    "Besondere Architektur für **sequentielle Daten** wie Texte.\n",
    "Klassische neuronale Netze arbeiten Buchstaben für Buchstaben eines Textes ab, sehen keinen Zusammenhang. <br><br>\n",
    "**Idee:** Ausgang des Netzes abhängig vom **aktuellen und den vorherigen Buchstaben**. Die Berechnung der Vorherigen wiederholt sich damit - *recurrent*. Bildlich gesprochen haben RNNs ein Kurzzeitgedächtnis.<br><br>\n",
    "**Problem:** Betrachtbare Sequenz zwar theoretisch unendlich lange, praktisch jedoch **hohe Rechenleistung für Wiederholungen** erforderlich."
   ]
  },
  {
   "cell_type": "markdown",
   "metadata": {},
   "source": [
    "## Long Short-Term Memory networks (LSTMs)\n",
    "**Lösung:** \"Kurzes\" Kurzzeitgedächtnis des RNNs soll zu einem **\"langen Kurzzeitgedächtnis\"** ausgebaut werden.<br>\n",
    " <br> **Idee:** Komplexere Architektur mit **Zellen, die Bedeutung einzelner, längerer Sequenzen speichern** und zusammenfügen soll. Einzelne Informationen können vergessen, in Kontext zu anderen Informationen gebracht oder durch neue Informationen ergänzt werden (durch Forget, Output und Input Gates)"
   ]
  },
  {
   "cell_type": "code",
   "execution_count": 1,
   "metadata": {},
   "outputs": [],
   "source": [
    "import os\n",
    "import tensorflow as tf\n",
    "import numpy as np\n",
    "import matplotlib.pyplot as plt\n",
    "from tensorflow import keras"
   ]
  },
  {
   "cell_type": "code",
   "execution_count": 2,
   "metadata": {},
   "outputs": [],
   "source": [
    "os.environ['TF_CPP_MIN_LOG_LEVEL'] = '2'\n",
    "assert tf.__version__.startswith('2.')\n",
    "#tf.debugging.set_log_device_placement(True)\n",
    "\n",
    "# fix random seed for reproducibility\n",
    "tf.random.set_seed(22)\n",
    "np.random.seed(7)"
   ]
  },
  {
   "cell_type": "code",
   "execution_count": 3,
   "metadata": {},
   "outputs": [],
   "source": [
    "def plotHistory(history):\n",
    "    # Plot training & validation accuracy values\n",
    "    plt.plot(history.history['accuracy'])\n",
    "    plt.plot(history.history['val_accuracy'])\n",
    "    plt.title('Model accuracy')\n",
    "    plt.ylabel('Accuracy')\n",
    "    plt.xlabel('Epoch')\n",
    "    plt.legend(['Train', 'Validation'], loc='upper left')\n",
    "    plt.show()\n",
    "\n",
    "    # Plot training & validation loss values\n",
    "    plt.plot(history.history['loss'])\n",
    "    plt.plot(history.history['val_loss'])\n",
    "    plt.title('Model loss')\n",
    "    plt.ylabel('Loss')\n",
    "    plt.xlabel('Epoch')\n",
    "    plt.legend(['Train', 'Validation'], loc='upper left')\n",
    "    plt.show()"
   ]
  },
  {
   "cell_type": "code",
   "execution_count": 4,
   "metadata": {},
   "outputs": [
    {
     "name": "stdout",
     "output_type": "stream",
     "text": [
      "Number of different words in Training Data: 9998\n",
      "Number of different words in Testing Data: 9951\n"
     ]
    }
   ],
   "source": [
    "# only keep the top n most used words, zero the rest\n",
    "top_words = 10000\n",
    "# load the dataset\n",
    "(X_train, y_train), (X_test, y_test) = keras.datasets.imdb.load_data(num_words=top_words)\n",
    "print(\"Number of different words in Training Data:\", len(np.unique(np.hstack(X_train))))\n",
    "print(\"Number of different words in Testing Data:\", len(np.unique(np.hstack(X_test))))"
   ]
  },
  {
   "cell_type": "code",
   "execution_count": 5,
   "metadata": {},
   "outputs": [
    {
     "name": "stdout",
     "output_type": "stream",
     "text": [
      "X_train: [list([1, 14, 22, 16, 43, 530, 973, 1622, 1385, 65, 458, 4468, 66, 3941, 4, 173, 36, 256, 5, 25, 100, 43, 838, 112, 50, 670, 2, 9, 35, 480, 284, 5, 150, 4, 172, 112, 167, 2, 336, 385, 39, 4, 172, 4536, 1111, 17, 546, 38, 13, 447, 4, 192, 50, 16, 6, 147, 2025, 19, 14, 22, 4, 1920, 4613, 469, 4, 22, 71, 87, 12, 16, 43, 530, 38, 76, 15, 13, 1247, 4, 22, 17, 515, 17, 12, 16, 626, 18, 2, 5, 62, 386, 12, 8, 316, 8, 106, 5, 4, 2223, 5244, 16, 480, 66, 3785, 33, 4, 130, 12, 16, 38, 619, 5, 25, 124, 51, 36, 135, 48, 25, 1415, 33, 6, 22, 12, 215, 28, 77, 52, 5, 14, 407, 16, 82, 2, 8, 4, 107, 117, 5952, 15, 256, 4, 2, 7, 3766, 5, 723, 36, 71, 43, 530, 476, 26, 400, 317, 46, 7, 4, 2, 1029, 13, 104, 88, 4, 381, 15, 297, 98, 32, 2071, 56, 26, 141, 6, 194, 7486, 18, 4, 226, 22, 21, 134, 476, 26, 480, 5, 144, 30, 5535, 18, 51, 36, 28, 224, 92, 25, 104, 4, 226, 65, 16, 38, 1334, 88, 12, 16, 283, 5, 16, 4472, 113, 103, 32, 15, 16, 5345, 19, 178, 32])\n",
      " list([1, 194, 1153, 194, 8255, 78, 228, 5, 6, 1463, 4369, 5012, 134, 26, 4, 715, 8, 118, 1634, 14, 394, 20, 13, 119, 954, 189, 102, 5, 207, 110, 3103, 21, 14, 69, 188, 8, 30, 23, 7, 4, 249, 126, 93, 4, 114, 9, 2300, 1523, 5, 647, 4, 116, 9, 35, 8163, 4, 229, 9, 340, 1322, 4, 118, 9, 4, 130, 4901, 19, 4, 1002, 5, 89, 29, 952, 46, 37, 4, 455, 9, 45, 43, 38, 1543, 1905, 398, 4, 1649, 26, 6853, 5, 163, 11, 3215, 2, 4, 1153, 9, 194, 775, 7, 8255, 2, 349, 2637, 148, 605, 2, 8003, 15, 123, 125, 68, 2, 6853, 15, 349, 165, 4362, 98, 5, 4, 228, 9, 43, 2, 1157, 15, 299, 120, 5, 120, 174, 11, 220, 175, 136, 50, 9, 4373, 228, 8255, 5, 2, 656, 245, 2350, 5, 4, 9837, 131, 152, 491, 18, 2, 32, 7464, 1212, 14, 9, 6, 371, 78, 22, 625, 64, 1382, 9, 8, 168, 145, 23, 4, 1690, 15, 16, 4, 1355, 5, 28, 6, 52, 154, 462, 33, 89, 78, 285, 16, 145, 95])\n",
      " list([1, 14, 47, 8, 30, 31, 7, 4, 249, 108, 7, 4, 5974, 54, 61, 369, 13, 71, 149, 14, 22, 112, 4, 2401, 311, 12, 16, 3711, 33, 75, 43, 1829, 296, 4, 86, 320, 35, 534, 19, 263, 4821, 1301, 4, 1873, 33, 89, 78, 12, 66, 16, 4, 360, 7, 4, 58, 316, 334, 11, 4, 1716, 43, 645, 662, 8, 257, 85, 1200, 42, 1228, 2578, 83, 68, 3912, 15, 36, 165, 1539, 278, 36, 69, 2, 780, 8, 106, 14, 6905, 1338, 18, 6, 22, 12, 215, 28, 610, 40, 6, 87, 326, 23, 2300, 21, 23, 22, 12, 272, 40, 57, 31, 11, 4, 22, 47, 6, 2307, 51, 9, 170, 23, 595, 116, 595, 1352, 13, 191, 79, 638, 89, 2, 14, 9, 8, 106, 607, 624, 35, 534, 6, 227, 7, 129, 113])] ...\n",
      "y_train: [1 0 0] ...\n"
     ]
    }
   ],
   "source": [
    "print('X_train:', X_train[0:3], '...')\n",
    "print('y_train:', y_train[0:3], '...')"
   ]
  },
  {
   "cell_type": "code",
   "execution_count": 6,
   "metadata": {},
   "outputs": [
    {
     "name": "stdout",
     "output_type": "stream",
     "text": [
      "Review length: \n",
      "Mean 238.71 words (176.493674)\n"
     ]
    },
    {
     "data": {
      "image/png": "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\n",
      "text/plain": [
       "<Figure size 432x288 with 1 Axes>"
      ]
     },
     "metadata": {
      "needs_background": "light"
     },
     "output_type": "display_data"
    },
    {
     "name": "stdout",
     "output_type": "stream",
     "text": [
      "Maximum word length training data: 2494\n",
      "Maximum word length testing data: 2315\n"
     ]
    }
   ],
   "source": [
    "# Summarize review length\n",
    "print(\"Review length: \")\n",
    "result = [len(x) for x in X_train]\n",
    "print(\"Mean %.2f words (%f)\" % (np.mean(result), np.std(result)))\n",
    "# plot review length\n",
    "plt.boxplot(result)\n",
    "plt.show()\n",
    "print(\"Maximum word length training data:\", (max([len(sequence) for sequence in X_train])))\n",
    "print(\"Maximum word length testing data:\", (max([len(sequence) for sequence in X_test])))"
   ]
  },
  {
   "cell_type": "code",
   "execution_count": 7,
   "metadata": {},
   "outputs": [
    {
     "name": "stdout",
     "output_type": "stream",
     "text": [
      "Before padding:  218 - 189 - 141\n",
      "After padding:  250 - 250 - 250\n"
     ]
    }
   ],
   "source": [
    "# maximal number of words in one review - truncate and pad input sequences accordingly\n",
    "max_review_length = 250\n",
    "print('Before padding: ', len(X_train[0]), '-', len(X_train[1]), '-', len(X_train[2]))\n",
    "x_train = keras.preprocessing.sequence.pad_sequences(X_train, maxlen=max_review_length)\n",
    "x_test = keras.preprocessing.sequence.pad_sequences(X_test, maxlen=max_review_length)\n",
    "print('After padding: ', len(x_train[0]), '-', len(x_train[1]), '-', len(x_train[2]))"
   ]
  },
  {
   "cell_type": "code",
   "execution_count": 8,
   "metadata": {},
   "outputs": [
    {
     "name": "stdout",
     "output_type": "stream",
     "text": [
      "x_train shape: (25000, 250)\n",
      "y_train shape: (25000,)\n",
      "x_test shape: (25000, 250)\n",
      "y_test shape: (25000,)\n"
     ]
    }
   ],
   "source": [
    "print('x_train shape:', x_train.shape)\n",
    "print('y_train shape:', y_train.shape)\n",
    "print('x_test shape:', x_test.shape)\n",
    "print('y_test shape:', y_test.shape)"
   ]
  },
  {
   "cell_type": "code",
   "execution_count": 9,
   "metadata": {},
   "outputs": [
    {
     "name": "stdout",
     "output_type": "stream",
     "text": [
      "Total number of words in Training Data: 6250000\n"
     ]
    },
    {
     "data": {
      "image/png": "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\n",
      "text/plain": [
       "<Figure size 432x288 with 1 Axes>"
      ]
     },
     "metadata": {
      "needs_background": "light"
     },
     "output_type": "display_data"
    }
   ],
   "source": [
    "print(\"Total number of words in Training Data:\", len(np.hstack(x_train)))\n",
    "bins = 100\n",
    "x = np.arange(bins)\n",
    "hist, bin_edges = np.histogram(x_train, bins)\n",
    "plt.xlim([0,bins])\n",
    "plt.xlabel('Bins with each %i different Words' %(top_words/bins))\n",
    "plt.ylabel('Number of Words in each Bin')\n",
    "plt.bar(x, hist, align='edge')\n",
    "plt.show()"
   ]
  },
  {
   "cell_type": "markdown",
   "metadata": {},
   "source": [
    "## MLP"
   ]
  },
  {
   "cell_type": "code",
   "execution_count": 10,
   "metadata": {},
   "outputs": [
    {
     "name": "stdout",
     "output_type": "stream",
     "text": [
      "Model: \"sequential\"\n",
      "_________________________________________________________________\n",
      "Layer (type)                 Output Shape              Param #   \n",
      "=================================================================\n",
      "embedding (Embedding)        (None, 250, 32)           320000    \n",
      "_________________________________________________________________\n",
      "flatten (Flatten)            (None, 8000)              0         \n",
      "_________________________________________________________________\n",
      "dropout (Dropout)            (None, 8000)              0         \n",
      "_________________________________________________________________\n",
      "dense (Dense)                (None, 10)                80010     \n",
      "_________________________________________________________________\n",
      "dropout_1 (Dropout)          (None, 10)                0         \n",
      "_________________________________________________________________\n",
      "dense_1 (Dense)              (None, 1)                 11        \n",
      "=================================================================\n",
      "Total params: 400,021\n",
      "Trainable params: 400,021\n",
      "Non-trainable params: 0\n",
      "_________________________________________________________________\n",
      "None\n",
      "Train on 25000 samples, validate on 25000 samples\n",
      "Epoch 1/10\n",
      "25000/25000 [==============================] - 4s 171us/sample - loss: 0.6860 - accuracy: 0.5347 - val_loss: 0.6056 - val_accuracy: 0.7579\n",
      "Epoch 2/10\n",
      "25000/25000 [==============================] - 3s 113us/sample - loss: 0.4163 - accuracy: 0.8280 - val_loss: 0.3006 - val_accuracy: 0.8780\n",
      "Epoch 3/10\n",
      "25000/25000 [==============================] - 3s 113us/sample - loss: 0.2692 - accuracy: 0.9044 - val_loss: 0.2833 - val_accuracy: 0.8805\n",
      "Epoch 4/10\n",
      "25000/25000 [==============================] - 3s 112us/sample - loss: 0.2026 - accuracy: 0.9374 - val_loss: 0.2980 - val_accuracy: 0.8811\n",
      "Epoch 5/10\n",
      "25000/25000 [==============================] - 3s 109us/sample - loss: 0.1534 - accuracy: 0.9561 - val_loss: 0.3200 - val_accuracy: 0.8770\n",
      "Epoch 6/10\n",
      "25000/25000 [==============================] - 3s 113us/sample - loss: 0.1189 - accuracy: 0.9671 - val_loss: 0.3359 - val_accuracy: 0.8760\n",
      "Epoch 7/10\n",
      "25000/25000 [==============================] - 3s 115us/sample - loss: 0.0983 - accuracy: 0.9746 - val_loss: 0.3740 - val_accuracy: 0.8760\n",
      "Epoch 8/10\n",
      "25000/25000 [==============================] - 3s 111us/sample - loss: 0.0869 - accuracy: 0.9784 - val_loss: 0.3863 - val_accuracy: 0.8755\n",
      "Epoch 9/10\n",
      "25000/25000 [==============================] - 3s 112us/sample - loss: 0.0712 - accuracy: 0.9830 - val_loss: 0.4316 - val_accuracy: 0.8758\n",
      "Epoch 10/10\n",
      "25000/25000 [==============================] - 3s 113us/sample - loss: 0.0663 - accuracy: 0.9837 - val_loss: 0.4432 - val_accuracy: 0.8732\n",
      "25000/1 - 1s - loss: 0.3148 - accuracy: 0.8732\n"
     ]
    },
    {
     "data": {
      "image/png": "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\n",
      "text/plain": [
       "<Figure size 432x288 with 1 Axes>"
      ]
     },
     "metadata": {
      "needs_background": "light"
     },
     "output_type": "display_data"
    },
    {
     "data": {
      "image/png": "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\n",
      "text/plain": [
       "<Figure size 432x288 with 1 Axes>"
      ]
     },
     "metadata": {
      "needs_background": "light"
     },
     "output_type": "display_data"
    },
    {
     "name": "stdout",
     "output_type": "stream",
     "text": [
      "Final test loss and accuracy : [0.44322351944446564, 0.87316]\n"
     ]
    }
   ],
   "source": [
    "batch_size = 128\n",
    "model = keras.models.Sequential()\n",
    "model.add(keras.layers.Embedding(top_words, 32, input_length=max_review_length))\n",
    "model.add(keras.layers.Flatten())\n",
    "model.add(keras.layers.Dropout(0.5))\n",
    "model.add(keras.layers.Dense(10, activation='relu'))\n",
    "model.add(keras.layers.Dropout(0.5))\n",
    "model.add(keras.layers.Dense(1, activation='sigmoid'))\n",
    "\n",
    "print(model.summary())\n",
    "\n",
    "model.compile(loss='binary_crossentropy', optimizer='adam', metrics=['accuracy'])\n",
    "\n",
    "history = model.fit(x_train, y_train, batch_size = batch_size, epochs = 10, validation_data = (x_test, y_test), verbose = 1)\n",
    "score = model.evaluate(x_test, y_test, batch_size = batch_size, verbose = 2)\n",
    "\n",
    "plotHistory(history)\n",
    "print(\"Final test loss and accuracy :\", score)"
   ]
  },
  {
   "cell_type": "markdown",
   "metadata": {},
   "source": [
    "## CNN"
   ]
  },
  {
   "cell_type": "code",
   "execution_count": 11,
   "metadata": {},
   "outputs": [
    {
     "name": "stdout",
     "output_type": "stream",
     "text": [
      "Model: \"sequential_1\"\n",
      "_________________________________________________________________\n",
      "Layer (type)                 Output Shape              Param #   \n",
      "=================================================================\n",
      "embedding_1 (Embedding)      (None, 250, 32)           320000    \n",
      "_________________________________________________________________\n",
      "conv1d (Conv1D)              (None, 250, 32)           3104      \n",
      "_________________________________________________________________\n",
      "max_pooling1d (MaxPooling1D) (None, 125, 32)           0         \n",
      "_________________________________________________________________\n",
      "flatten_1 (Flatten)          (None, 4000)              0         \n",
      "_________________________________________________________________\n",
      "dense_2 (Dense)              (None, 20)                80020     \n",
      "_________________________________________________________________\n",
      "dense_3 (Dense)              (None, 1)                 21        \n",
      "=================================================================\n",
      "Total params: 403,145\n",
      "Trainable params: 403,145\n",
      "Non-trainable params: 0\n",
      "_________________________________________________________________\n",
      "None\n",
      "Train on 25000 samples, validate on 25000 samples\n",
      "Epoch 1/10\n",
      "25000/25000 [==============================] - 5s 209us/sample - loss: 0.5004 - accuracy: 0.7183 - val_loss: 0.2988 - val_accuracy: 0.8739\n",
      "Epoch 2/10\n",
      "25000/25000 [==============================] - 3s 119us/sample - loss: 0.2214 - accuracy: 0.9118 - val_loss: 0.2826 - val_accuracy: 0.8831\n",
      "Epoch 3/10\n",
      "25000/25000 [==============================] - 3s 118us/sample - loss: 0.1523 - accuracy: 0.9449 - val_loss: 0.3203 - val_accuracy: 0.8743\n",
      "Epoch 4/10\n",
      "25000/25000 [==============================] - 3s 118us/sample - loss: 0.1099 - accuracy: 0.9625 - val_loss: 0.3741 - val_accuracy: 0.8659\n",
      "Epoch 5/10\n",
      "25000/25000 [==============================] - 3s 115us/sample - loss: 0.0767 - accuracy: 0.9756 - val_loss: 0.4265 - val_accuracy: 0.8644\n",
      "Epoch 6/10\n",
      "25000/25000 [==============================] - 3s 119us/sample - loss: 0.0433 - accuracy: 0.9892 - val_loss: 0.5208 - val_accuracy: 0.8602\n",
      "Epoch 7/10\n",
      "25000/25000 [==============================] - 3s 119us/sample - loss: 0.0238 - accuracy: 0.9954 - val_loss: 0.6088 - val_accuracy: 0.8594\n",
      "Epoch 8/10\n",
      "25000/25000 [==============================] - 3s 118us/sample - loss: 0.0117 - accuracy: 0.9982 - val_loss: 0.6828 - val_accuracy: 0.8570\n",
      "Epoch 9/10\n",
      "25000/25000 [==============================] - 3s 118us/sample - loss: 0.0053 - accuracy: 0.9996 - val_loss: 0.7712 - val_accuracy: 0.8564\n",
      "Epoch 10/10\n",
      "25000/25000 [==============================] - 3s 118us/sample - loss: 0.0025 - accuracy: 0.9999 - val_loss: 0.8228 - val_accuracy: 0.8562\n",
      "25000/1 - 1s - loss: 0.6790 - accuracy: 0.8562\n"
     ]
    },
    {
     "data": {
      "image/png": "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\n",
      "text/plain": [
       "<Figure size 432x288 with 1 Axes>"
      ]
     },
     "metadata": {
      "needs_background": "light"
     },
     "output_type": "display_data"
    },
    {
     "data": {
      "image/png": "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\n",
      "text/plain": [
       "<Figure size 432x288 with 1 Axes>"
      ]
     },
     "metadata": {
      "needs_background": "light"
     },
     "output_type": "display_data"
    },
    {
     "name": "stdout",
     "output_type": "stream",
     "text": [
      "Final test loss and accuracy : [0.822842117767334, 0.85624]\n"
     ]
    }
   ],
   "source": [
    "batch_size = 128\n",
    "model = keras.models.Sequential()\n",
    "model.add(keras.layers.Embedding(top_words, 32, input_length = max_review_length))\n",
    "model.add(keras.layers.Conv1D(filters=32, kernel_size=3, padding='same', activation='relu'))\n",
    "model.add(keras.layers.MaxPooling1D(pool_size=2))\n",
    "model.add(keras.layers.Flatten())\n",
    "model.add(keras.layers.Dense(20, activation='relu'))\n",
    "model.add(keras.layers.Dense(1, activation='sigmoid'))\n",
    "\n",
    "print(model.summary())\n",
    "\n",
    "model.compile(loss='binary_crossentropy', optimizer='adam', metrics=['accuracy'])\n",
    "\n",
    "history = model.fit(x_train, y_train, batch_size = batch_size, epochs = 10, validation_data = (x_test, y_test), verbose = 1)\n",
    "score = model.evaluate(x_test, y_test, batch_size = batch_size, verbose = 2)\n",
    "\n",
    "plotHistory(history)\n",
    "print(\"Final test loss and accuracy :\", score)"
   ]
  },
  {
   "cell_type": "markdown",
   "metadata": {},
   "source": [
    "## RNN"
   ]
  },
  {
   "cell_type": "code",
   "execution_count": 12,
   "metadata": {},
   "outputs": [
    {
     "name": "stdout",
     "output_type": "stream",
     "text": [
      "Model: \"sequential_2\"\n",
      "_________________________________________________________________\n",
      "Layer (type)                 Output Shape              Param #   \n",
      "=================================================================\n",
      "embedding_2 (Embedding)      (None, 250, 32)           320000    \n",
      "_________________________________________________________________\n",
      "simple_rnn (SimpleRNN)       (None, 80)                9040      \n",
      "_________________________________________________________________\n",
      "dense_4 (Dense)              (None, 1)                 81        \n",
      "=================================================================\n",
      "Total params: 329,121\n",
      "Trainable params: 329,121\n",
      "Non-trainable params: 0\n",
      "_________________________________________________________________\n",
      "None\n",
      "Train on 25000 samples, validate on 25000 samples\n",
      "Epoch 1/10\n",
      "25000/25000 [==============================] - 129s 5ms/sample - loss: 1.2768 - accuracy: 0.6110 - val_loss: 0.5255 - val_accuracy: 0.7672\n",
      "Epoch 2/10\n",
      "25000/25000 [==============================] - 133s 5ms/sample - loss: 0.4379 - accuracy: 0.8004 - val_loss: 0.3643 - val_accuracy: 0.8430\n",
      "Epoch 3/10\n",
      "25000/25000 [==============================] - 124s 5ms/sample - loss: 0.3051 - accuracy: 0.8717 - val_loss: 0.3227 - val_accuracy: 0.8613\n",
      "Epoch 4/10\n",
      "25000/25000 [==============================] - 124s 5ms/sample - loss: 0.2423 - accuracy: 0.9042 - val_loss: 0.3118 - val_accuracy: 0.8700\n",
      "Epoch 5/10\n",
      "25000/25000 [==============================] - 124s 5ms/sample - loss: 0.2040 - accuracy: 0.9213 - val_loss: 0.3806 - val_accuracy: 0.8530\n",
      "Epoch 6/10\n",
      "25000/25000 [==============================] - 131s 5ms/sample - loss: 0.2074 - accuracy: 0.9179 - val_loss: 0.4219 - val_accuracy: 0.8022\n",
      "Epoch 7/10\n",
      "25000/25000 [==============================] - 126s 5ms/sample - loss: 0.2172 - accuracy: 0.9142 - val_loss: 0.4155 - val_accuracy: 0.8611\n",
      "Epoch 8/10\n",
      "25000/25000 [==============================] - 126s 5ms/sample - loss: 0.1913 - accuracy: 0.9260 - val_loss: 0.4148 - val_accuracy: 0.8461\n",
      "Epoch 9/10\n",
      "25000/25000 [==============================] - 127s 5ms/sample - loss: 0.1527 - accuracy: 0.9432 - val_loss: 0.8121 - val_accuracy: 0.8358\n",
      "Epoch 10/10\n",
      "25000/25000 [==============================] - 130s 5ms/sample - loss: 0.1686 - accuracy: 0.9351 - val_loss: 0.4161 - val_accuracy: 0.8545\n",
      "25000/1 - 19s - loss: 0.4005 - accuracy: 0.8545\n"
     ]
    },
    {
     "data": {
      "image/png": "iVBORw0KGgoAAAANSUhEUgAAAYgAAAEWCAYAAAB8LwAVAAAABHNCSVQICAgIfAhkiAAAAAlwSFlzAAALEgAACxIB0t1+/AAAADh0RVh0U29mdHdhcmUAbWF0cGxvdGxpYiB2ZXJzaW9uMy4xLjEsIGh0dHA6Ly9tYXRwbG90bGliLm9yZy8QZhcZAAAgAElEQVR4nO3deXyU5bXA8d8hCSSBhCVhDxB2gsga0VYrIC5gFaziQqUVl1Kt1rZ2015vW23tta3tta3WFhV3pVYrohdFRVrEFXBhSdjXENYEEpYkZDn3j+cNmYQBJmQms53v55NPZt5tTkaZM89ynldUFWOMMaahFuEOwBhjTGSyBGGMMcYvSxDGGGP8sgRhjDHGL0sQxhhj/LIEYYwxxi9LECbuiUi2iKiIJAZw7HQRWdwccRkTbpYgTFQRkc0ickREMhts/9z7kM8OT2TGxB5LECYabQKm1j4RkdOBlPCFExkCaQEZ0xiWIEw0egb4ps/z64CnfQ8QkbYi8rSI7BGRLSJyt4i08PYliMgDIrJXRDYCX/Vz7uMiskNEtovIr0UkIZDAROSfIrJTREpEZJGInOazL0VE/uDFUyIii0Ukxdt3joh8ICL7RWSbiEz3tv9bRG7yuUa9Li6v1XSriKwD1nnb/uRdo1RElonIV3yOTxCRn4nIBhE54O3vISIPi8gfGvwtr4nI9wP5u01ssgRhotFHQLqI5Hgf3FcDzzY45i9AW6APMAaXUK739n0LuAQYAeQCUxqc+xRQBfTzjrkQuInAvAH0BzoBnwLP+ex7ABgFfBnoAPwEqBGRnt55fwE6AsOBzwN8PYDLgDOBwd7zJd41OgDPA/8UkWRv3x241tfFQDpwA3DY+5un+iTRTGA88EIj4jCxRlXtx36i5gfYDJwP3A38DzABeBtIBBTIBhKACmCwz3nfBv7tPX4XuNln34XeuYlAZ+/cFJ/9U4GF3uPpwOIAY23nXbct7stYGTDMz3F3Aa8c5xr/Bm7yeV7v9b3rn3eSOPbVvi6wBph8nOPygQu8x7cB88L939t+wvtjfZYmWj0DLAJ606B7CcgEWgJbfLZtAbp7j7sB2xrsq9ULSAJ2iEjtthYNjvfLa83cB1yJawnU+MTTCkgGNvg5tcdxtgeqXmwi8kNci6cbLoGkezGc7LWeAqbhEu404E9NiMnEAOtiMlFJVbfgBqsvBv7VYPdeoBL3YV+rJ7Dde7wD90Hpu6/WNlwLIlNV23k/6ap6Gif3dWAyroXTFteaARAvpnKgr5/zth1nO8AhINXneRc/xxxdktkbb/gpcBXQXlXbASVeDCd7rWeBySIyDMgB5hznOBMnLEGYaHYjrnvlkO9GVa0GXgTuE5E0EemF63uvHad4EbhdRLJEpD1wp8+5O4C3gD+ISLqItBCRviIyJoB40nDJpQj3of4bn+vWALOAP4pIN2+w+Esi0go3TnG+iFwlIokikiEiw71TPwcuF5FUEenn/c0ni6EK2AMkisjPcS2IWo8BvxKR/uIMFZEML8YC3PjFM8DLqloWwN9sYpglCBO1VHWDqi49zu7v4r59bwQW4wZrZ3n7HgXmA1/gBpIbtkC+ieuiysP1378EdA0gpKdx3VXbvXM/arD/R8AK3IdwMfBboIWqbsW1hH7obf8cGOad87/AEWAXrgvoOU5sPm7Ae60XSzn1u6D+iEuQbwGlwOPUnyL8FHA6LkmYOCeqdsMgY4wjIufiWlrZXqvHxDFrQRhjABCRJOB7wGOWHAxYgjDGACKSA+zHdaU9GOZwTISwLiZjjDF+WQvCGGOMXzFTKJeZmanZ2dnhDsMYY6LKsmXL9qpqR3/7YiZBZGdns3Tp8WY8GmOM8UdEthxvn3UxGWOM8SukCUJEJojIGhFZLyJ3+tnfS0QWiMhyb1njLJ991d5NYD4XkbmhjNMYY8yxQtbF5C1c9jBwAVAALBGRuaqa53PYA8DTqvqUiJyHW53zG96+MlUdjjHGmLAI5RjEaGC9qm4EEJHZuIXMfBPEYOAH3uOFBHlxsMrKSgoKCigvLw/mZeNecnIyWVlZJCUlhTsUY0wIhTJBdKf+GjAFuJua+PoCuAK3rPDXgDQRyVDVIiBZRJbiFh67X1WPSR4iMgOYAdCzZ8+GuykoKCAtLY3s7Gx8lm42TaCqFBUVUVBQQO/evcMdjjEmhEI5BuHvE7lhVd6PgDEi8hnurl/bcQkBoKeq5uKWUH5QRI5ZolhVZ6pqrqrmdux47Cyt8vJyMjIyLDkEkYiQkZFhrTJj4kAoWxAF1F9zPwso9D1AVQuBywFEpA1whaqW+OxDVTeKyL9xt35s9E1VLDkEn72nxsSHUCaIJUB/EemNaxlcg2sNHOXd97bYWxjsLrzlmL01+g+raoV3zNnA70IYqzHGBOxgRRWL1u5hS9FhenRIITujNb0yUklLjq1xuZAlCFWtEpHbcOvTJwCzVHWViNwLLFXVucBY4H9ERHG3j7zVOz0H+LuI1OC6we5vMPspKhQVFTF+/HgAdu7cSUJCArVdYZ988gktW7Y86TWuv/567rzzTgYOHBjSWI0xJ1aw7zAL8nfzTv4uPt5YzJHqYxe8zWzTkl5esuid0Zpema3JzkilV0Zr2qZEX/KImcX6cnNztWEldX5+Pjk5OWGKqL5f/vKXtGnThh/96Ef1ttfeHLxFi+iqWYyk99aYUKipUb4o2H80KazeeQCAPh1bc35OZ8YP6kROt3S27ytjS9EhNu09zJaiQ2wuOsSWosPsKKk/Ttc+NYnszNZHWxvZGa2956m0Sz35l8VQEZFl3njvMWJmqY1osn79ei677DLOOeccPv74Y15//XXuuecePv30U8rKyrj66qv5+c9/DsA555zDQw89xJAhQ8jMzOTmm2/mjTfeIDU1lVdffZVOnTqF+a8xJnYcPlLF4nV7WZC/mwWrd7P3YAUJLYTcXu35r4tzGJ/TiT4d29Q7J71rEjld04+5VtmRarYWH/YSxiE2Fx1m895DfLKpmDmfb8f3u3nblCSyM1LJzmxNr4y6Vkd2RiodWrcM27hf3CSIe15bRV5haVCvObhbOr+4NJB72R8rLy+PJ554gr/97W8A3H///XTo0IGqqirGjRvHlClTGDx4cL1zSkpKGDNmDPfffz933HEHs2bN4s47jylQN8Y0ws6Schas3sWC/N28v34vFVU1pLVKZMzAjpyf05mxAzue0jf8lJYJDOySxsAuacfsK6+spmDf4WNaHZ9u3cdrXxRS45M80pIT/bY6emW0JrNNaJNH3CSISNO3b1/OOOOMo89feOEFHn/8caqqqigsLCQvL++YBJGSksLEiRMBGDVqFO+9916zxmxMLFBVVhWW8k6+SwortpcA0LNDKl8/syfn53TmjOwOtEwMXbdvclIC/Tql0a/TscmjoqqaAq/barOXQDYVHWbF9hLeWLmTap/s0bplAr0yWjO6dwd+OenUvqyeSNwkiFP9ph8qrVu3Pvp43bp1/OlPf+KTTz6hXbt2TJs2zW+dge+gdkJCAlVVVcccY4w5VnllNR9uKOKd/F28u3o3O0rKEYGRPdvzkwkDuSCnM/06tYmIKdytEhPo27ENfRt0ZQFUVtewfV8Zm4oOsWWv67baUnSI8srqkMQSNwkikpWWlpKWlkZ6ejo7duxg/vz5TJgwIdxhGRPV9hyoYOFqN8D83rq9lFVWk9oygXP7d+SOCzoxblAnMtu0CneYjZKU0MJ1MWW2hmaY2GgJIgKMHDmSwYMHM2TIEPr06cPZZ58d7pCMiTqqyppdB47OOvp8235UoVvbZKaMyuL8wZ05q08HWiUmhDvUqGHTXM0psffWRIIjVTV8vKnoaFIo2FcGwLCstozP6cz4nE4M7poeEV1HkcqmuRpjYoKqUrCvjCWbi1mQv5v/rN3DwYoqkpNacE6/TG4d14/xgzrRKT053KHGBEsQxpiItbu0nC8KSlhesJ8vCkpYUbCffYcrAeiU1opLh3Vl/KDOnN0vk5SW1nUUbJYgjDERoeRwJcu372d5QQlfbHO/d5a62XwtBAZ0TuOCwZ0ZmtWO4T3aMbhrOi1aWNdRKFmCMOY4CveX8e7q3ew/fIS05CTSUxJJa5VEWnIi6Snud1pyEmmtEu2DqpHKjlSzsrAuEazYXsKmvYeO7s/OSGV07w4MzWrLsB7tOK1bOqkt7eOqudk7boynpkZZvr2EBfm7eCd/N/k7Aqu8F4E2LROPSRzptQmk9nlK3fN0n/3pKYmkJCXE7EDqkaoa1uw8wBcF+1le4BLC2l0HjlYLd0lPZmhWW6aMymJoVluGdm9H29ToW9guFlmCMHHNd+2dd9fsZs+BCloI5GZ34GcXD2J8Tmd6tE/lQHklpeVVHCiv5EB5FaVl3u/jbN99oJz1u+u2V9WceLZgQgs5mjhcQql9XNdiSfd+t01JIj3Z/W6b6ra3aZUYEQmmukbZuOdgvXGD/B2lHKlyK5+2S01iaFa7o11Fw7La2oByBLMEEWJjx47lrrvu4qKLLjq67cEHH2Tt2rX89a9/9XtOmzZtOHjwIIWFhdx+++289NJLfq/7wAMPkJvrd3ba0deZMWMGqampAFx88cU8//zztGvXrol/VXTbUVLmFmPL38X7G4o4UlVDWnIiYwYcf+2djDatyDjFoipVpayymgNeIikpq0sctUmmYYI5UF7F1uLDR/cfrKjiRDPSWwhHk4dvAklPqU0uPvuOHpN49HlSQuOXlaidUfRFQd24wcrtJRw64qp6W7dMYEj3tlz3pV5eMmhHjw4pEZHITGAsQYTY1KlTmT17dr0EMXv2bH7/+9+f9Nxu3br5TQ6BevDBB5k2bdrRBDFv3rxTvlY0q6lRVnhdRwtW72aVt2hjr4xUpp3Zi/NzOnFG7w6n9CEZCBEhtWUiqS0T6XyK35ZrapQDFS6BlJRVUlpWSWl57eMqSmq3l9ft31FSRkmZO8ffvQt8pbZM8JtY6m9LIjmpBWt3HnAziraXUHzoCAAtE1qQ0y2dK0ZlHW0Z9OnYhgQbm4lqliBCbMqUKdx9991UVFTQqlUrNm/eTGFhIcOHD2f8+PHs27ePyspKfv3rXzN58uR6527evJlLLrmElStXUlZWxvXXX09eXh45OTmUlZUdPe6WW25hyZIllJWVMWXKFO655x7+/Oc/U1hYyLhx48jMzGThwoVkZ2ezdOlSMjMz+eMf/8isWbMAuOmmm/j+97/P5s2bmThxIueccw4ffPAB3bt359VXXyUlJaVZ37NgKDtSzeL1e1ngrb2z2+s6GtWrPXdOHMT5OZ3o2zEy1t4JRIsWcrQF0OPkhx+jvLL6aHIp8ZNcGu7bvr+c/B0HXIumov6aX7Uzis7P6XS0ZTCwS1pIF7cz4RE/CeKNO2HniuBes8vpMPH+Ex6SkZHB6NGjefPNN5k8eTKzZ8/m6quvJiUlhVdeeYX09HT27t3LWWedxaRJk477gfXII4+QmprK8uXLWb58OSNHjjy677777qNDhw5UV1czfvx4li9fzu23384f//hHFi5cSGZmZr1rLVu2jCeeeIKPP/4YVeXMM89kzJgxtG/fnnXr1vHCCy/w6KOPctVVV/Hyyy8zbdq0pr9XzcDfss1tWrmuo/E5nRg7sBMdWofvxizhlJyUQHJSwin191dV13CwwiWSQxXVZGem2oyiOGH/lZtBbTdTbYKYNWsWqsrPfvYzFi1aRIsWLdi+fTu7du2iS5cufq+xaNEibr/9dgCGDh3K0KFDj+578cUXmTlzJlVVVezYsYO8vLx6+xtavHgxX/va146uKHv55Zfz3nvvMWnSJHr37s3w4cMBt6T45s2bg/QuBJ+qsnK7t2zz6l2s3O66jmqXbR4/qDOje4d22eZ4kJjQgnapLcN61zMTHvGTIE7yTT+ULrvsMu64446jd4wbOXIkTz75JHv27GHZsmUkJSWRnZ3td4lvX/5aF5s2beKBBx5gyZIltG/fnunTp5/0Oidaf6tVq7qB2ISEhHpdWZGgvLKa99fv5Z383by7ehe7Sl3X0cie7fnpBNd1FCnLNhsT7eInQYRRmzZtGDt2LDfccANTp04F3N3hOnXqRFJSEgsXLmTLli0nvMa5557Lc889x7hx41i5ciXLly8H3FLhrVu3pm3btuzatYs33niDsWPHApCWlsaBAweO6WI699xzmT59OnfeeSeqyiuvvMIzzzwT/D88SHaVlvvMOtpLeaXrOjp3QCbjB3Vm3KD47ToyJpQsQTSTqVOncvnllzN79mwArr32Wi699FJyc3MZPnw4gwYNOuH5t9xyC9dffz1Dhw5l+PDhjB49GoBhw4YxYsQITjvttGOWCp8xYwYTJ06ka9euLFy48Oj2kSNHMn369KPXuOmmmxgxYkREdSdtKz7My58W1LvjV1b7FK45oyfjczpxZu8M6zoyJsRCuty3iEwA/gQkAI+p6v0N9vcCZgEdgWJgmqoWePuuA+72Dv21qj51otey5b6bV6je2wPllTy0cD1PLN5MZU0NI3q0Y3xOZ87P6cyAztZ1ZEywhWW5bxFJAB4GLgAKgCUiMldV83wOewB4WlWfEpHzgP8BviEiHYBfALmAAsu8c/eFKl4TXtU1ykvLtvH7+WvZe7CCK0Zm8aOLBtC1bfRNsTUmVoSyi2k0sF5VNwKIyGxgMuCbIAYDP/AeLwTmeI8vAt5W1WLv3LeBCcALIYzXhMnHG4u49/U8VhWWMqpXe2ZNz2VoVnxXexsTCUKZILoD23yeFwBnNjjmC+AKXDfU14A0Eck4zrndG76AiMwAZgD07NnTbxCqat0SQRasbsltxYf5nzfymbdiJ93aJvPnqSO4dGhX++9lTIQIZYLw96+84SfLj4CHRGQ6sAjYDlQFeC6qOhOYCW4MouH+5ORkioqKyMjIsA+dIFFVioqKSE4+9QXWDlZU8deF63ls8SYSRLjjggF86yt97IYvxkSYUCaIAqi3KkAWUOh7gKoWApcDiEgb4ApVLRGRAmBsg3P/3dgAsrKyKCgoYM+ePY091ZxAcnIyWVlZjT6vpkZ5+dMCfjd/DXsOVHD5iO78eMJAG2cwJkKFMkEsAfqLSG9cy+Aa4Ou+B4hIJlCsqjXAXbgZTQDzgd+ISHvv+YXe/kZJSkqid+/epxi+CaYlm4u597U8VmwvYUTPdsz8xihG9Gx/8hONMWETsgShqlUichvuwz4BmKWqq0TkXmCpqs7FtRL+R0QU18V0q3dusYj8CpdkAO6tHbA20aVg32Huf2M1ry/fQZf0ZB68ejiThnWzO7AZEwVCWgfRnPzVQZjwOVRRxd/+s4GZizYiAt8+ty/fHtPHFnkzJsKEpQ7CxKeaGuWVz7bzu/mr2VVaweTh3fjphEF0a2fjDMZEG0sQJmiWbdnHva/n8cW2/QzLastfrx3FqF42zmBMtLIEYZqscH8Zv31zNa9+XkintFb84cphfG1EdxtnMCbKWYIwp6zsSDV/+88G/r5oA6rw3fP6cfOYvrRuZf9bGRML7F+yaTRV5dXPC/ntm6vZUVLOJUO7cufEQWS1Tw13aMaYILIEYRrl8237uee1VXy2dT+nd2/Ln6eO4IzsDuEOyxgTApYgTEB2lpTzuzdX86/PttMxrRW/mzKUKSOzbJzBmBhmCcKcUHllNTMXbeSRf2+gWpXvjO3Ld8b1o42NMxgT8+xfufFLVXlt+Q7un5dPYUk5F5/ehbsm5tCjg40zGBMvLEGYYywv2M+9r+WxdMs+BndN549XD+esPhnhDssY08wsQZh6nvlwM//96ioy27Tkt1eczpRRPUiwcQZj4pIlCHPURxuL+OVreZw3qBN/umY4aclJoX9RVTiwE4rWwd51ULTe+70OpAX0uwAGToBe50Biy9DHY4w5yhKEAVw19K3PfUp2RmpoksORQz4f/j6/i9bDkYN1xyWmQEY/6DbCnfPpU/DJ36FlGvQdBwMnQv8LoXVmcOMzxhzDEoShvLKam59dRkVVDTO/mXvqyaGmBkq2ea2B9fVbBaXbfQ4UaNsDMvtBj69DRn/3OKM/pHeHFi3qDj1yGDb9B9a8AWvnQ/5cd37WGa5lMWACdBoMdsdAY4LOlvuOc6rKj19azkvLCnj0m7lcMLjzyU8q21/37b+2O2jveijeAFXldce1Snetgcz+9ZNARl9IOoXVXVVhx+cuUax5wz0GaNsTBlzkEkb2VyCxVeOvbUycsuW+zXE989EWXlpWwPfG96+fHKorYd8Wn1aAT6vgkM8tXCUB2me7JNB3XF0yyOgHbToF95u9iOt66jYCxt4JpTtg3XxY8yZ89iwseRSSWtfvimrTKXivb0ycsRZEHPtkUzFff/QjxgzoyKPXDqPFtg8g/zXYtAiKN0JNVd3BqZneh39frzXgJYL22ZExeFxZ5uJe+6ZLGAcKAYHuo1w31MAJ0HmIdUU1xcE9sOj3kNYF+oyFrsOgRUK4ozJNdKIWhCWIOLWjpIwr/vwuY5Py+GX/DbRc/yaU7YOkVOg9Bjrl+LQG+kJqFK23pAo7l9d1RRV+6ranZ3ldURNdV1RScnjjjCaHi+GpS2F3Pmi125bcDnp/xSWLPuOgQx9LwFHIEoSpU3GQyjXz+ej/nmRk+Se0lnJo1dZ9w86ZBH3Pg5YxVi19YJfrilo7Hza8C5WHXSLsM8793f0vdN+KjX/lJfD0ZNiVB1+fDZ1Oc621jf92P6UF7ri2PdyXiz5joc8Y696LEpYg4l3ZPtftkv8aumEBUlXOXk2nrM9F9Dj7Gsg+NzK6iZpDZTlsXgxr33DvSe2HW7eRdV1RXYbaN+FaFQfh2cth+zK4+jn3/vhSdd2RGxe6ZLFpkUso4BJJHy9h9PoytEpr5uBNICxBxKMDu2DN/9WNKdRUQXp3Vrcfw8/X9uXMMRfzwwmDwx1leKnCrlUuWaydDwVLAYW0bq4rasAE9wF3KjOuYkFlGTx3JWx5H6Y8AadddvJzaqphxxd1rYutH0F1BbRIdFOT+4x1rYysXEhohkLMWFZdCZvfg1Vz3My9i39/SpcJW4IQkQnAn4AE4DFVvb/B/p7AU0A775g7VXWeiGQD+cAa79CPVPXmE72WJQhg/1bIf90lha0fAur6hXMmweBJLKvM5ppHP+bsfpk8ft0ZtoRGQwd3w7q33ED3hoWugC8xBc64ES64N74GZKsq4IWprkvu8pkw9KpTu05lGWz7uC5hFH4OKLRsA73OruuOslqWwFQdcV/48l6B1f/njRu2htOvgEl/OaVLhiVBiEgCsBa4ACgAlgBTVTXP55iZwGeq+oiIDAbmqWq2lyBeV9Uhgb5e3CaIvesh/1WXFAo/c9s6D4GcS92P9w9vV2k5l/xlMaktE5h76zm0TbVvbydUVeG6opa/CMtnw6BL4IrH4qM1UV0JL17nWqCT/gIjvxm8ax8udu9rbcIo3uC2t+5U1x3Vewy06xG814x2VRXuvVo1x/03KS9xKwsMnAiDJ0O/8U36/zJcdRCjgfWqutELYjYwGcjzOUaBdO9xW6AwhPHEBlXYtRLy5rqksCffbe+eC+ff45JCRt96pxypquGWZ5dxqKKKZ28805JDIBJbuX94/ca7uos374SnL4OpL0TXjK7Gqq6Cf33LfRBd/EBwkwO4926wa9ECsH+bq5SvTRgr/um2d+jrtS7GuplSKe2DG0ekqyx3rbe8OW4mXkWpm0wy6GKXFPqMa5ZZeKFsQUwBJqjqTd7zbwBnquptPsd0Bd4C2gOtgfNVdZnXgliFa4GUAner6nt+XmMGMAOgZ8+eo7Zs2RKSvyXsamrcIGFtS2HfZreQXc8vu39og74KbbOOe/rPXlnB8x9v5a/XjuTi07s2X9yxZOW/4JVvQ/veMO3l2PyGW1MDc25xLaYLfgVn3968r68Ku/Ngo5cwNi+GykOAQLfhdQmjx1mxOUW5sgzWv+NaCmvfdF2cye1c63XwZPe3h2AySbi6mK4ELmqQIEar6nd9jrnDi+EPIvIl4HFgCJAEtFHVIhEZBcwBTlPV0uO9Xsx1MVVXwdYPXEth9etwYAe0SHLN8JxJMPBiaNPxpJd54ZOt3PWvFdwyti8/nTCoGQKPYZsXwwtfd9OAr30JugTcAxr5VOH178OyJ2Hcf8GYn4Q7ItfVtX1ZXeuiYImbbJGY7Aa8uw6DLqdD59Mgc2B0zsQ7cgjWve1aCmvfcgkxpQPkeEmh95iQD+aHq4upAPD9mpXFsV1INwITAFT1QxFJBjJVdTdQ4W1fJiIbgAFADGUAP6oq3Len/Fdh9TwoK3aDpP3Gu/9Z+l8IKe0CvtynW/fxi1dX8ZX+mfzowoEhDDxOZJ8DN7wBz06BJybCNc9B73PDHVXTqboutGVPwjl3wLk/DndETkIS9DzL/Yy9EyoOwJYPXbLY8j588qibIQVullTmQJe0O5/mxuE6D4G0ANYWa24VB11dzqo5LjlUlbmVCoZe5f6dZ38FEiJjFaRQtiAScV1E44HtuEHqr6vqKp9j3gD+oapPikgOsADoDmQCxapaLSJ9gPeA01W1+HivF/UtiG2fuCmF5fvdIncDLnIthX7joWXrRl9u94FyLv3LYlomtuC1286hXWoUfruKVCUF8OwVbv7/1/4GQ64Id0SnThXe+SW8/yCc9R246DfRM5uousoNcu9c4aYr71rpfvuuHNy6Y/2E0fk06Diw+Rd0LC91U6nz5rhupKpyNzA/eJJLCr3ODtssubC0IFS1SkRuA+bjprDOUtVVInIvsFRV5wI/BB4VkR/gBqynq6qKyLnAvSJSBVQDN58oOUS9w8Xwz+mudXD5o64bqQn/Ax+pquHW5z6ltKyKf33ny5Ycgq1tFtzwputueukGV3Pype+EO6pT85/fuuSQe0N0JQdw37I7DnQ/p0+p23642CdhrISdK/20NgbUJYwuXvJo0zm4f3/ZfjeWsGoObFgA1UcgrSuMvM4lhZ5nRfzUaSuUC7eaGnjhGleJeuNbbsZME/381ZU8/eEW/jx1BJOGdQtCkMavynL4101u4sCXbnMDu773soh0ix+Ed34Bw6+FSQ9FV+yNVdvaqE0YtQnEt7WRmukljNPrWh2NbS3z2TgAABm0SURBVG0cLnazjvLmuFqamkp3j5PBk91P1uiIe59tue9I9uFfXH/kxQ8EJTm8uHQbT3+4hRnn9rHkEGpJyXDlU/DGT+HDh9ytUy97JDoGSz/6m0sOp13uah0i7EMr6HxbG75dgkdbG6tgl9dVteSxuvuaHG1t+HRTdWnQ2jhU5KYFr5rjpuzWVLl7lJz5bRh8mVtROErfX0sQ4bT1Y3jnHvfN4oybmny5L7bt5+45Kzm7XwY/ucgGpZtFiwS3xEF6N1hwj7tXxtXPQnL6yc8Nl2VPwps/ddMnL58Z8d0cIZXawdVZ9P5K3bbqKje+VJswdq6ELR/U1WgApGa4ZAFudptWu6Xvv3Sr+/fcbWR0ddcdh3UxhcvhYvjbOW6mxrcXQXLbJl1u78EKLv3LYlqI8Np3z6FD6yj4FhtrPn8B5t4GHXNg2kuRuULsF/9w9Rz9xsM1z9vd9xrjcLGr09i5sm58o7K8rqK567CoTArWxRRpamrglZvdt80b32pycqisruE7z33KvsNHeOnmL1tyCJfhU11tyj++CY9d4ArqOg4Id1R1Vr0Cc25235avftaSQ2OldnBTnbPPCXckzSY6O8aiXe24w0W/Ccq4w33/l88nm4r57RVDGdK9acnGNFG/8+H6/3Nz22dd6KYvR4LV8+Dlm9wg6dTZ8bGmlGkySxDNLcjjDi8vK+DJDzZz4zm9mTy8exACNE3WbYRrGaa0d3dhWz0vvPGsfwf+eZ27z8W1/zyluhoTnyxBNKfDxfDS9W4dn0l/aXJ/5YqCEn72ygrO6tOBuybaMhoRpUMfuOEtt5ruP66FpbPCE8em92D2ta7KeNrLkT14biKOJYjm4jvucOWTTR53KDpYwc3PLiOjdUse/vpIEhPsP2XEadMRpr/uup1e/wG8e5+rXG4uWz+G5692s2u+OSe2V6E1IWGfKs0liOMOVdU13Pb8Z+w5WMHfv5FLRhsbbIxYLVu72UIjpsGi38Hc77pplKG2/VN4bopbi+ibr0LrzNC/pok5NoupOQR53OH+N1bz4cYi/nDlME7PskHpiJeQ5CqV07q5JHFwN1z5ROjGAnauhGe+5pZuue61yJxua6KCtSBCLcjjDq9+vp3HFm9i+pezuWLU8e8BYSKMCJz3X3DJ/8L6t93g9aG9wX+dPWvg6cmQlArfnHvC+4QYczKWIEIpyOMOqwpL+OnLyxmd3YH/+mpOcGI0zSv3BleDsGsVPH4hFG8K3rWLNsBTk9zNpK6bCx16B+/aJi5ZggilDx9y4w4X3tfkcYd9h47w7WeW0S6lJQ9fO5IkG5SOXoO+6r7dlxXD4xfU3Uu8KfZvdS2H6iNuzCGzf9OvaeKefcqEytaP3Tr7OZNg9LeadKmq6hpue+FTdpdW8LdvjKJjmg1KR72eZ8IN893d0Z68BNYvOPVrlRa6LqvyUvjGK9B5cPDiNHHNEkQoHC529wlo1wMmP9TkcYffz1/D++uL+PVlQxjeI/A7ypkI13Eg3Pi2m4b6/FXwxezGX+PgbtetdGivq3PoNjzoYZr4ZQki2I6OO+wOyrjDa18U8vdFG/nGWb246oweJz/BRJf0rnD9POj5JbeI3uL/DbxW4nAxPH2Zu8Pd11+EHmeENlYTdyxBBFsQxx3yd5Tyk5eWk9urPf99iXUbxKzktu7b/5AprlvyjZ9ATfWJzynbD89cBkXrYeoLkH12s4Rq4stJE4SI3CYi7ZsjmKgXxHGH/YfdoHR6SiJ/nTaSlomWy2NaYit3u9kv3QafzHRToyvL/R9bccAVwe3Kg6ufgb7jmjdWEzcC+dTpAiwRkRdFZIJIFC543hyCOO5QXaPcPvtzdpSU8ci0UXRKSw5ioCZitWgBF93nWp95r7pit7J99Y85chiev8ZVSk+ZBQMuCk+sJi6cNEGo6t1Af+BxYDqwTkR+IyJ9Qxxb9AjyuMMf3lrDorV7uHfyEEb2tMZb3PnybXDF41CwBGZNdGMM4FoU/7gWtrwPX/s7DJ4U3jhNzAuo30Ldbed2ej9VQHvgJRH53YnO81oca0RkvYjc6Wd/TxFZKCKfichyEbnYZ99d3nlrRCSyvyYFcdxh3ood/PXfG5g6uidTR/cMUoAm6pw+xY1LlG53Nx/a8QX8czpseNe1UIdeGe4ITRw46S1HReR24DpgL/AYMEdVK0WkBbBOVf22JEQkAVgLXAAUAEuAqaqa53PMTOAzVX1ERAYD81Q123v8AjAa6Aa8AwxQ1eOO3IXtlqNbP4YnJsKgi+GqZ5rUtbRm5wG+9tf3GdgljdkzzqJVYhzfK9g4O1fAs1Pg4C5A4eIHmjy+ZYyvpt5yNBO4XFW3+G5U1RoRueQE540G1qvqRi+I2cBkIM/nGAVqF6hvCxR6jycDs1W1AtgkIuu9630YQLzNp3bcoW2WW4ytCcnhQHkl335mKa1bJfK3aaMsORiny+lw09sw5ztBmfxgTGMEkiDmAcW1T0QkDRisqh+rav4JzusObPN5XgCc2eCYXwJvich3gdbA+T7nftTg3GNulyYiM4AZAD17NnN3jCrMucV9s7vxLbdyZhPMW7GDzUWHef6mM+mcboPSxke7nu6+EsY0s0DGIB4BDvo8P+RtOxl/X6cb9mdNBZ5U1SzgYuAZr+sqkHNR1ZmqmququR07dgwgpCD68CFY+6abddJ9ZJMv907+brq3S+FLfTOCEJwxxjRdIAlC1GegQlVrCKzlUQD4lv5mUdeFVOtG4EXvuh8CybgurUDODZ9tn3j1DpfC6BlNvlx5ZTWL1+1lfE4nbBaxMSZSBJIgNorI7SKS5P18D9gYwHlLgP4i0ltEWgLXAHMbHLMVGA8gIjm4BLHHO+4aEWklIr1x02w/CexPCrHDxfDP6yG9e5PHHWp9uKGIsspqzhvUKQgBGmNMcASSIG4Gvgxsp24c4aRfm1W1CrgNmA/kAy+q6ioRuVdEaidw/xD4loh8gZu1NF2dVbiWRR7wJnDriWYwNRvfcYcrn2zyuEOtBat3kdoygbP6WPeSMSZynLSrSFV34779N5qqzsMNcvtu+7nP4zzA7yIyqnofcN+pvG7I1I47TPxdUMYdAFSVd/N385X+mSQn2cwlY0zkOGmCEJFk3FjBabguIABU9YYQxhV5gjzuUCtvRymFJeV8/4IBQbumMcYEQyBdTM/g1mO6CPgPbsD4QCiDijghGHeotSB/NyIwbqCNPxhjIksgCaKfqv43cEhVnwK+Cpwe2rAiSIjGHWotyN/FsKx2dpc4Y0zECSRBVHq/94vIEFzFc3bIIoo0teMOF/46aOMOtXaXlvNFQQnn51jrwRgTeQKpZ5jp3Q/ibtz00zbAf4c0qkhRO+4w6BI489tBv/zCNbsBGJ/TOejXNsaYpjphgvCqmktVdR+wCOjTLFFFgqPjDt1g8sNBHXeoVVs9PahLWtCvbYwxTXXCLiavavq2ZoolcoR43AGsetoYE/kCGYN4W0R+JCI9RKRD7U/IIwuneuMOo0LzElY9bYyJcIGMQdTWO9zqs02J1e6mbUtCOu5Q6518q542xkS2QCqpezdHIBHhcLG7WXwIxx3Aq55ebdXTxpjIFkgl9Tf9bVfVp4MfThipupuyHNgJN84PybhDrbwdpewoKecHVj1tjIlggXQxneHzOBm3+uqnQGwliA8fhrVvwITfhmzcoZZVTxtjokEgXUzf9X0uIm1xy2/Ejm1L4J1fhHzcoZZVTxtjokEgs5gaOoy7P0NsaKZxh1pWPW2MiRaBjEG8Rt3tPlsAg/HuAhcTaqqh40AY97OQjjvUsuppY0y0CGQM4gGfx1XAFlUtCFE8za9NR5j2crO9nFVPG2OiRSAJYiuwQ1XLAUQkRUSyVXVzSCOLQbXV01fmZln1tDEm4gUyBvFPoMbnebW3zTSSVU8bY6JJIAkiUVWP1D7xHrcMXUixy6qnjTHRJJAEsUdEJtU+EZHJwN7QhRSbrHraGBNtAkkQNwM/E5GtIrIV+CkQ+mKBGFNbPW2zl4wx0SKQQrkNwFki0gYQVQ34ftQiMgH4E5AAPKaq9zfY/7/AOO9pKtBJVdt5+6qBFd6+rao6iShm1dPGmGgTSB3Eb4Dfqep+73l74IeqevdJzksAHgYuAAqAJSIyV1Xzao9R1R/4HP9dYITPJcpUdXhj/phIZtXTxphoE0gX08Ta5ADg3V3u4gDOGw2sV9WN3sD2bGDyCY6fCrwQwHWjjlVPG2OiUSAJIkFEjn7tFZEUIJCvwd2BbT7PC7xtxxCRXkBv4F2fzckislREPhKRy45z3gzvmKV79uwJIKTweHe1VU8bY6JPIIVyzwILROQJ7/n1wFMBnOevEkz9bAO4BnhJVat9tvVU1UIR6QO8KyIrvPGQuoupzgRmAuTm5h7v2mG3YLVVTxtjos9JWxCq+jvg10AObh2mN4FeAVy7AOjh8zwLKDzOsdfQoHtJVQu93xuBf1N/fCJq2L2njTHRKtDVXHfiqqmvwN0PIj+Ac5YA/UWkt4i0xCWBuQ0PEpGBQHvgQ59t7Wu7tUQkEzgbyGt4bjSorZ627iVjTLQ5bheTiAzAfahPBYqAf+CmuY473jm+VLVKRG4D5uOmuc5S1VUici+wVFVrk8VUYLaq+nYR5QB/F5EaXBK733f2UzSprZ4+s3eHcIdijDGNcqIxiNXAe8ClqroeQER+cILjj6Gq84B5Dbb9vMHzX/o57wPg9Ma8ViSy6mljTDQ7URfTFbiupYUi8qiIjMf/wLM5jlWFVj1tjIlex00QqvqKql4NDMINEv8A6Cwij4jIhc0UX1R7d7WrnrbVW40x0SiQWUyHVPU5Vb0ENxPpc+DOkEcWAxbk72J4j3ZktrHqaWNM9GnUPalVtVhV/66q54UqoFhRWz093loPxpgo1agEYQJn1dPGmGhnCSJE7N7TxphoZwkiBMorq3l/vVVPG2OimyWIELDqaWNMLLAEEQJWPW2MiQWWIILMqqeNMbHCEkSQWfW0MSZWWIIIMqueNsbECksQQWbV08aYWGEJIoisetoYE0ssQQSRVU8bY2KJJYggsuppY0wssQQRJOWV1Sxev8eqp40xMcMSRJB8uKGI8soa614yxsQMSxBBYtXTxphYYwkiCKx62hgTiyxBBIFVTxtjYlFIE4SITBCRNSKyXkSOuU2piPyviHzu/awVkf0++64TkXXez3WhjLOpFuRb9bQxJvYkhurCIpIAPAxcABQAS0Rkrqrm1R6jqj/wOf67wAjvcQfgF0AuoMAy79x9oYq3Kd5dbdXTxpjYE8oWxGhgvapuVNUjwGxg8gmOnwq84D2+CHjbuwf2PuBtYEIIYz1ltdXT51v3kjEmxoQyQXQHtvk8L/C2HUNEegG9gXcbc66IzBCRpSKydM+ePUEJurFqq6ete8kYE2tCmSD8VYvpcY69BnhJVasbc66qzlTVXFXN7dix4ymG2TRWPW2MiVWhTBAFQA+f51lA4XGOvYa67qXGnhs2Vj1tjIlloUwQS4D+ItJbRFriksDchgeJyECgPfChz+b5wIUi0l5E2gMXetsiygcb9lr1tDEmZoVsFpOqVonIbbgP9gRglqquEpF7gaWqWpsspgKzVVV9zi0WkV/hkgzAvapaHKpYT9WC/N2ktkzgrD5WPW2MiT0hSxAAqjoPmNdg288bPP/lcc6dBcwKWXBN5Fs93SrRqqeNMbHHKqlPkVVPG2NinSWIU2TV08aYWGcJ4hQtsOppY0yMswRxCnaXlrPcqqeNMTHOEsQpsOppY0w8sARxCqx62hgTDyxBNJJVTxtj4oUliEay6mljTLywBNFIVj1tjIkXliAawaqnjTHxxBJEI1j1tDEmnliCaASrnjbGxBNLEI1g1dPGmHhiCSJAu6x62hgTZyxBBGihVU8bY+KMJYgAWfW0MSbeWIIIgFVPG2PikSWIAFj1tDEmHlmCCMA7Vj1tjIlDliBOQlV5N9+qp40x8ccSxEmsKixlZ6lVTxtj4k9IE4SITBCRNSKyXkTuPM4xV4lInoisEpHnfbZXi8jn3s/cUMZ5IlY9bYyJV4mhurCIJAAPAxcABcASEZmrqnk+x/QH7gLOVtV9IuL7KVymqsNDFV+grHraGBOvQtmCGA2sV9WNqnoEmA1MbnDMt4CHVXUfgKruDmE8jWbV08aYeBbKBNEd2ObzvMDb5msAMEBE3heRj0Rkgs++ZBFZ6m2/zN8LiMgM75ile/bsCW701FVPj8+x7iVjTPwJWRcT4K+iTP28fn9gLJAFvCciQ1R1P9BTVQtFpA/wroisUNUN9S6mOhOYCZCbm9vw2k1WWz09sLNVTxtj4k8oWxAFQA+f51lAoZ9jXlXVSlXdBKzBJQxUtdD7vRH4NzAihLEew6qnjTHxLpQJYgnQX0R6i0hL4Bqg4WykOcA4ABHJxHU5bRSR9iLSymf72UAezciqp40x8S5kXUyqWiUitwHzgQRglqquEpF7gaWqOtfbd6GI5AHVwI9VtUhEvgz8XURqcEnsft/ZT83hnfzdtLbqaWNMHAvlGASqOg+Y12Dbz30eK3CH9+N7zAfA6aGM7UTqqqc7WvW0MSZuWSW1H7XV0+fZ7CVjTByzBOGHVU8bY4wlCL+setoYYyxBHMOqp40xxrEE0cC7Vj1tjDGAJYhjLLDqaWOMASxB1GPV08YYU8cShA+rnjbGmDqWIHxY9bQxxtSxBOGx6mljjKnPEoTHqqeNMaY+SxAeq542xpj6LEF4rHraGGPqswSBVU8bY4w/liCw6mljjPHHEgSwIH+XVU8bY0wDcZ8gXPX0XqueNsaYBuI+QZSWVXLh4C5MHNI13KEYY0xECektR6NBp/Rk/jx1RLjDMMaYiBP3LQhjjDH+hTRBiMgEEVkjIutF5M7jHHOViOSJyCoRed5n+3Uiss77uS6UcRpjjDlWyLqYRCQBeBi4ACgAlojIXFXN8zmmP3AXcLaq7hORTt72DsAvgFxAgWXeuftCFa8xxpj6QtmCGA2sV9WNqnoEmA1MbnDMt4CHaz/4VXW3t/0i4G1VLfb2vQ1MCGGsxhhjGghlgugObPN5XuBt8zUAGCAi74vIRyIyoRHnIiIzRGSpiCzds2dPEEM3xhgTygThr6hAGzxPBPoDY4GpwGMi0i7Ac1HVmaqaq6q5HTt2bGK4xhhjfIUyQRQAPXyeZwGFfo55VVUrVXUTsAaXMAI51xhjTAiFMkEsAfqLSG8RaQlcA8xtcMwcYByAiGTiupw2AvOBC0WkvYi0By70thljjGkmIZvFpKpVInIb7oM9AZilqqtE5F5gqarOpS4R5AHVwI9VtQhARH6FSzIA96pq8Yleb9myZXtFZEsTQs4E9jbh/Fhi70V99n7UZ+9HnVh4L3odb4eoHtO1H5dEZKmq5oY7jkhg70V99n7UZ+9HnVh/L6yS2hhjjF+WIIwxxvhlCaLOzHAHEEHsvajP3o/67P2oE9PvhY1BGGOM8ctaEMYYY/yyBGGMMcavuE8QgSxJHi9EpIeILBSRfG/59e+FO6ZwE5EEEflMRF4PdyzhJiLtROQlEVnt/T/ypXDHFE4i8gPv38lKEXlBRJLDHVOwxXWC8FmSfCIwGJgqIoPDG1VYVQE/VNUc4Czg1jh/PwC+B+SHO4gI8SfgTVUdBAwjjt8XEekO3A7kquoQXDHwNeGNKvjiOkEQ2JLkcUNVd6jqp97jA7gPgGNW0Y0XIpIFfBV4LNyxhJuIpAPnAo8DqOoRVd0f3qjCLhFIEZFEIJUYXC8u3hNEQMuKxyMRyQZGAB+HN5KwehD4CVAT7kAiQB9gD/CE1+X2mIi0DndQ4aKq24EHgK3ADqBEVd8Kb1TBF+8JIqBlxeONiLQBXga+r6ql4Y4nHETkEmC3qi4LdywRIhEYCTyiqiOAQ0Dcjtl5i4hOBnoD3YDWIjItvFEFX7wnCFtWvAERScIlh+dU9V/hjieMzgYmichmXNfjeSLybHhDCqsCoEBVa1uUL+ESRrw6H9ikqntUtRL4F/DlMMcUdPGeIAJZkjxuiIjg+pjzVfWP4Y4nnFT1LlXNUtVs3P8X76pqzH1DDJSq7gS2ichAb9N4IO8Ep8S6rcBZIpLq/bsZTwwO2odsue9ocLwlycMcVjidDXwDWCEin3vbfqaq88IYk4kc3wWe875MbQSuD3M8YaOqH4vIS8CnuNl/nxGDy27YUhvGGGP8ivcuJmOMMcdhCcIYY4xfliCMMcb4ZQnCGGOMX5YgjDHG+GUJwphGEJFqEfnc5ydo1cQiki0iK4N1PWOaKq7rIIw5BWWqOjzcQRjTHKwFYUwQiMhmEfmtiHzi/fTztvcSkQUistz73dPb3llEXhGRL7yf2mUaEkTkUe8+A2+JSErY/igT9yxBGNM4KQ26mK722VeqqqOBh3ArweI9flpVhwLPAX/2tv8Z+I+qDsOtaVRbwd8feFhVTwP2A1eE+O8x5risktqYRhCRg6raxs/2zcB5qrrRW/Bwp6pmiMheoKuqVnrbd6hqpojsAbJUtcLnGtnA26ra33v+UyBJVX8d+r/MmGNZC8KY4NHjPD7eMf5U+DyuxsYJTRhZgjAmeK72+f2h9/gD6m5FeS2w2Hu8ALgFjt73Or25gjQmUPbtxJjGSfFZ6RbcPZprp7q2EpGPcV+8pnrbbgdmiciPcXdkq10B9XvATBG5EddSuAV3ZzJjIoaNQRgTBN4YRK6q7g13LMYEi3UxGWOM8ctaEMYYY/yyFoQxxhi/LEEYY4zxyxKEMcYYvyxBGGOM8csShDHGGL/+Hx1lqOgoRWk7AAAAAElFTkSuQmCC\n",
      "text/plain": [
       "<Figure size 432x288 with 1 Axes>"
      ]
     },
     "metadata": {
      "needs_background": "light"
     },
     "output_type": "display_data"
    },
    {
     "data": {
      "image/png": "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\n",
      "text/plain": [
       "<Figure size 432x288 with 1 Axes>"
      ]
     },
     "metadata": {
      "needs_background": "light"
     },
     "output_type": "display_data"
    },
    {
     "name": "stdout",
     "output_type": "stream",
     "text": [
      "Final test loss and accuracy : [0.41607590196609495, 0.85448]\n"
     ]
    }
   ],
   "source": [
    "batch_size = 32\n",
    "model = keras.models.Sequential()\n",
    "model.add(keras.layers.Embedding(top_words, output_dim = 32, input_length = max_review_length))\n",
    "model.add(keras.layers.SimpleRNN(80, activation='relu', dropout = 0.5))\n",
    "model.add(keras.layers.Dense(1, activation = 'sigmoid'))\n",
    "\n",
    "print(model.summary())\n",
    "\n",
    "model.compile(loss='binary_crossentropy', optimizer='adam', metrics=['accuracy'])\n",
    "\n",
    "history = model.fit(x_train, y_train, batch_size = batch_size, epochs = 10, validation_data = (x_test, y_test), verbose = 1)\n",
    "score = model.evaluate(x_test, y_test, batch_size = batch_size, verbose = 2)\n",
    "\n",
    "plotHistory(history)\n",
    "print(\"Final test loss and accuracy :\", score)"
   ]
  },
  {
   "cell_type": "markdown",
   "metadata": {},
   "source": [
    "## LSTM"
   ]
  },
  {
   "cell_type": "code",
   "execution_count": null,
   "metadata": {},
   "outputs": [
    {
     "name": "stdout",
     "output_type": "stream",
     "text": [
      "Model: \"sequential_3\"\n",
      "_________________________________________________________________\n",
      "Layer (type)                 Output Shape              Param #   \n",
      "=================================================================\n",
      "embedding_3 (Embedding)      (None, 250, 32)           320000    \n",
      "_________________________________________________________________\n",
      "lstm (LSTM)                  (None, 40)                11680     \n",
      "_________________________________________________________________\n",
      "dense_5 (Dense)              (None, 1)                 41        \n",
      "=================================================================\n",
      "Total params: 331,721\n",
      "Trainable params: 331,721\n",
      "Non-trainable params: 0\n",
      "_________________________________________________________________\n",
      "None\n",
      "Train on 25000 samples, validate on 25000 samples\n",
      "Epoch 1/10\n",
      "25000/25000 [==============================] - 312s 12ms/sample - loss: 0.4914 - accuracy: 0.7659 - val_loss: 0.3945 - val_accuracy: 0.8359\n",
      "Epoch 2/10\n",
      "25000/25000 [==============================] - 319s 13ms/sample - loss: 0.3631 - accuracy: 0.8479 - val_loss: 0.3719 - val_accuracy: 0.8423\n",
      "Epoch 3/10\n",
      " 8000/25000 [========>.....................] - ETA: 2:32 - loss: 0.3087 - accuracy: 0.8752"
     ]
    }
   ],
   "source": [
    "batch_size = 32\n",
    "model = keras.models.Sequential()\n",
    "model.add(keras.layers.Embedding(top_words, output_dim = 32, input_length=max_review_length))\n",
    "model.add(keras.layers.LSTM(40, dropout=0.2, recurrent_dropout=0.2))\n",
    "model.add(keras.layers.Dense(1, activation = 'sigmoid'))\n",
    "\n",
    "print(model.summary())\n",
    "\n",
    "model.compile(loss = 'binary_crossentropy', optimizer = 'adam', metrics = ['accuracy'])\n",
    "\n",
    "history = model.fit(x_train, y_train, batch_size = batch_size, epochs = 10, validation_data = (x_test, y_test), verbose = 1)\n",
    "score = model.evaluate(x_test, y_test, batch_size = batch_size, verbose = 2)\n",
    "\n",
    "plotHistory(history)\n",
    "print(\"Final test loss and accuracy :\", score)"
   ]
  },
  {
   "cell_type": "markdown",
   "metadata": {},
   "source": [
    "## Bidirectional LSTM"
   ]
  },
  {
   "cell_type": "code",
   "execution_count": null,
   "metadata": {},
   "outputs": [],
   "source": [
    "batch_size = 32\n",
    "model = keras.models.Sequential()\n",
    "model.add(keras.layers.Embedding(top_words, output_dim = 128, input_length=max_review_length))\n",
    "model.add(keras.layers.Bidirectional(keras.layers.LSTM(20, dropout=0.2, recurrent_dropout=0.2)))\n",
    "model.add(keras.layers.Dense(1, activation = 'sigmoid'))\n",
    "\n",
    "print(model.summary())\n",
    "\n",
    "model.compile(loss = 'binary_crossentropy', optimizer = 'adam', metrics = ['accuracy'])\n",
    "\n",
    "history = model.fit(x_train, y_train, batch_size = batch_size, epochs = 10, validation_data = (x_test, y_test), verbose = 1)\n",
    "score = model.evaluate(x_test, y_test, batch_size = batch_size, verbose = 2)\n",
    "\n",
    "plotHistory(history)\n",
    "print(\"Final test loss and accuracy :\", score)"
   ]
  },
  {
   "cell_type": "markdown",
   "metadata": {},
   "source": [
    "## Small LSTM"
   ]
  },
  {
   "cell_type": "code",
   "execution_count": null,
   "metadata": {},
   "outputs": [],
   "source": [
    "batch_size = 32\n",
    "model = keras.models.Sequential()\n",
    "model.add(keras.layers.Embedding(top_words, output_dim = 128, input_length=max_review_length))\n",
    "model.add(keras.layers.LSTM(4, dropout=0.2, recurrent_dropout=0.2))\n",
    "model.add(keras.layers.Dense(1, activation = 'sigmoid'))\n",
    "\n",
    "print(model.summary())\n",
    "\n",
    "model.compile(loss = 'binary_crossentropy', optimizer = 'adam', metrics = ['accuracy'])\n",
    "\n",
    "history = model.fit(x_train, y_train, batch_size = batch_size, epochs = 10, validation_data = (x_test, y_test), verbose = 1)\n",
    "score = model.evaluate(x_test, y_test, batch_size = batch_size, verbose = 2)\n",
    "\n",
    "plotHistory(history)\n",
    "print(\"Final test loss and accuracy :\", score)"
   ]
  },
  {
   "cell_type": "code",
   "execution_count": null,
   "metadata": {},
   "outputs": [],
   "source": [
    "from termcolor import colored\n",
    "\n",
    "# Reload Dataset with complete text\n",
    "(X_train_plot, y_train), (X_test_plot, y_test) = keras.datasets.imdb.load_data()\n",
    "\n",
    "def plotReviewDB(test_or_train, review_id):\n",
    "    word_to_id = keras.datasets.imdb.get_word_index()\n",
    "    word_to_id = {k:(v+3) for k,v in word_to_id.items()}\n",
    "    word_to_id[\"<padded>\"] = 0\n",
    "    word_to_id[\"<start>\"] = 1\n",
    "    word_to_id[\"<unknown>\"] = 2\n",
    "\n",
    "    sentiment = 0\n",
    "    id_to_word = {value:key for key,value in word_to_id.items()}\n",
    "    if test_or_train is 'train':\n",
    "        print(' '.join(id_to_word[id] for id in X_train_plot[review_id] ))\n",
    "        sentiment = y_train[review_id]\n",
    "    else:\n",
    "        print(' '.join(id_to_word[id] for id in X_test_plot[review_id] ))\n",
    "        sentiment = y_test[review_id]\n",
    "    if sentiment == 0:\n",
    "        print(colored('Review is labelled as Negative', 'red'))\n",
    "    if sentiment == 1:\n",
    "        print(colored('Review is labelled as Positive', 'green'))\n",
    "        \n",
    "def predictSentimentLSTM(model, review_id):\n",
    "    prediction = model.predict(x_test[review_id].reshape([1,max_review_length]), batch_size = batch_size, verbose = 2)\n",
    "    if prediction == 0:\n",
    "        print(colored('Review predicted to be Negative', 'red'))\n",
    "    else:\n",
    "        print(colored('Review predicted to be Positive', 'green'))\n",
    "    print('Groundtruth:')\n",
    "    plotReviewDB('test', review_id)"
   ]
  },
  {
   "cell_type": "code",
   "execution_count": null,
   "metadata": {},
   "outputs": [],
   "source": [
    "predictSentimentLSTM(model,1)"
   ]
  },
  {
   "cell_type": "markdown",
   "metadata": {},
   "source": [
    "## Ähnliche Netze \n",
    "Analyse der Wertung - Cloudimplementierung: https://app.monkeylearn.com/main/classifiers/cl_pi3C7JiL/"
   ]
  },
  {
   "cell_type": "markdown",
   "metadata": {},
   "source": [
    "## Quellen\n",
    "Allgemeine Einführung: https://towardsdatascience.com/deep-learning-for-sentiment-analysis-7da8006bf6c1 <br>\n",
    "LSTMs: https://colah.github.io/posts/2015-08-Understanding-LSTMs/ <br>\n",
    "Netflix-Reviews Klassifikator: https://towardsdatascience.com/sentiment-analysis-with-deep-learning-62d4d0166ef6 <br>\n",
    "... dazugehöriger GitHub-Code: https://github.com/artem-oppermann/Sentiment-Analysis-of-Netflix-Reviews\n"
   ]
  }
 ],
 "metadata": {
  "kernelspec": {
   "display_name": "Python 3",
   "language": "python",
   "name": "python3"
  },
  "language_info": {
   "codemirror_mode": {
    "name": "ipython",
    "version": 3
   },
   "file_extension": ".py",
   "mimetype": "text/x-python",
   "name": "python",
   "nbconvert_exporter": "python",
   "pygments_lexer": "ipython3",
   "version": "3.7.4"
  }
 },
 "nbformat": 4,
 "nbformat_minor": 2
}
_train, y_train, batch_size = batch_size, epochs = 10, validation_data = (x_test, y_test), verbose = 1)\n",
    "score = model.evaluate(x_test, y_test, batch_size = batch_size, verbose = 2)\n",
    "\n",
    "plotHistory(history)\n",
    "print(\"Final test loss and accuracy :\", score)"
   ]
  },
  {
   "cell_type": "markdown",
   "metadata": {},
   "source": [
    "## Small LSTM"
   ]
  },
  {
   "cell_type": "code",
   "execution_count": null,
   "metadata": {},
   "outputs": [],
   "source": [
    "batch_size = 32\n",
    "model = keras.models.Sequential()\n",
    "model.add(keras.layers.Embedding(top_words, output_dim = 128, input_length=max_review_length))\n",
    "model.add(keras.layers.LSTM(4, dropout=0.2, recurrent_dropout=0.2))\n",
    "model.add(keras.layers.Dense(1, activation = 'sigmoid'))\n",
    "\n",
    "print(model.summary())\n",
    "\n",
    "model.compile(loss = 'binary_crossentropy', optimizer = 'adam', metrics = ['accuracy'])\n",
    "\n",
    "history = model.fit(x_train, y_train, batch_size = batch_size, epochs = 10, validation_data = (x_test, y_test), verbose = 1)\n",
    "score = model.evaluate(x_test, y_test, batch_size = batch_size, verbose = 2)\n",
    "\n",
    "plotHistory(history)\n",
    "print(\"Final test loss and accuracy :\", score)"
   ]
  },
  {
   "cell_type": "code",
   "execution_count": null,
   "metadata": {},
   "outputs": [],
   "source": [
    "from termcolor import colored\n",
    "\n",
    "# Reload Dataset with complete text\n",
    "(X_train_plot, y_train), (X_test_plot, y_test) = keras.datasets.imdb.load_data()\n",
    "\n",
    "def plotReviewDB(test_or_train, review_id):\n",
    "    word_to_id = keras.datasets.imdb.get_word_index()\n",
    "    word_to_id = {k:(v+3) for k,v in word_to_id.items()}\n",
    "    word_to_id[\"<padded>\"] = 0\n",
    "    word_to_id[\"<start>\"] = 1\n",
    "    word_to_id[\"<unknown>\"] = 2\n",
    "\n",
    "    sentiment = 0\n",
    "    id_to_word = {value:key for key,value in word_to_id.items()}\n",
    "    if test_or_train is 'train':\n",
    "        print(' '.join(id_to_word[id] for id in X_train_plot[review_id] ))\n",
    "        sentiment = y_train[review_id]\n",
    "    else:\n",
    "        print(' '.join(id_to_word[id] for id in X_test_plot[review_id] ))\n",
    "        sentiment = y_test[review_id]\n",
    "    if sentiment == 0:\n",
    "        print(colored('Review is labelled as Negative', 'red'))\n",
    "    if sentiment == 1:\n",
    "        print(colored('Review is labelled as Positive', 'green'))\n",
    "        \n",
    "def predictSentimentLSTM(model, review_id):\n",
    "    prediction = model.predict(x_test[review_id].reshape([1,max_review_length]), batch_size = batch_size, verbose = 2)\n",
    "    if prediction == 0:\n",
    "        print(colored('Review predicted to be Negative', 'red'))\n",
    "    if prediction >= 1:\n",
    "        print(colored('Review predicted to be Positive', 'green'))\n",
    "    print('Groundtruth:')\n",
    "    plotReviewDB('test', review_id)"
   ]
  },
  {
   "cell_type": "code",
   "execution_count": null,
   "metadata": {},
   "outputs": [],
   "source": [
    "predictSentimentLSTM(model,1)"
   ]
  },
  {
   "cell_type": "markdown",
   "metadata": {},
   "source": [
    "## Ähnliche Netze \n",
    "Analyse der Wertung - Cloudimplementierung: https://app.monkeylearn.com/main/classifiers/cl_pi3C7JiL/"
   ]
  },
  {
   "cell_type": "markdown",
   "metadata": {},
   "source": [
    "## Quellen\n",
    "Allgemeine Einführung: https://towardsdatascience.com/deep-learning-for-sentiment-analysis-7da8006bf6c1 <br>\n",
    "LSTMs: https://colah.github.io/posts/2015-08-Understanding-LSTMs/ <br>\n",
    "Netflix-Reviews Klassifikator: https://towardsdatascience.com/sentiment-analysis-with-deep-learning-62d4d0166ef6 <br>\n",
    "... dazugehöriger GitHub-Code: https://github.com/artem-oppermann/Sentiment-Analysis-of-Netflix-Reviews\n"
   ]
  }
 ],
 "metadata": {
  "kernelspec": {
   "display_name": "Python 3",
   "language": "python",
   "name": "python3"
  },
  "language_info": {
   "codemirror_mode": {
    "name": "ipython",
    "version": 3
   },
   "file_extension": ".py",
   "mimetype": "text/x-python",
   "name": "python",
   "nbconvert_exporter": "python",
   "pygments_lexer": "ipython3",
   "version": "3.7.4"
  }
 },
 "nbformat": 4,
 "nbformat_minor": 2
}
